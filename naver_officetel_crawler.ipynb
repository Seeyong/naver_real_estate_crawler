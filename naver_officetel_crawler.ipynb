{
 "cells": [
  {
   "cell_type": "code",
   "execution_count": 1,
   "metadata": {},
   "outputs": [
    {
     "data": {
      "text/plain": [
       "'\\n오피스텔 : rletTypeCd=A02\\n매매 : tradeTypeCd=A1\\nHighest Year of School Completed : hscpTypeCd=A02\\n법정동 코드 API http://juso.seoul.go.kr/openapi/helps/SearchApi_jibun.aspx\\nhttps://www.code.go.kr/ \\n1168010300 개포동\\n1168010800 논현동\\n1168010600 대치동\\n1168011800 도곡동\\n1168010500 삼성동\\n1168011100 세곡동\\n1168011500 수서동\\n1168010700 신사동\\n'"
      ]
     },
     "execution_count": 1,
     "metadata": {},
     "output_type": "execute_result"
    }
   ],
   "source": [
    "'''\n",
    "오피스텔 : rletTypeCd=A02\n",
    "매매 : tradeTypeCd=A1\n",
    "Highest Year of School Completed : hscpTypeCd=A02\n",
    "법정동 코드 API http://juso.seoul.go.kr/openapi/helps/SearchApi_jibun.aspx\n",
    "https://www.code.go.kr/ \n",
    "1168010300 개포동\n",
    "1168010800 논현동\n",
    "1168010600 대치동\n",
    "1168011800 도곡동\n",
    "1168010500 삼성동\n",
    "1168011100 세곡동\n",
    "1168011500 수서동\n",
    "1168010700 신사동\n",
    "'''"
   ]
  },
  {
   "cell_type": "code",
   "execution_count": 2,
   "metadata": {},
   "outputs": [
    {
     "data": {
      "text/plain": [
       "['https://land.naver.com//article/articleDetailInfo.nhn?atclNo=1818572578&atclRletTypeCd=A02&rletTypeCd=A02&tradeTypeCd=A1',\n",
       " 'https://land.naver.com//article/articleDetailInfo.nhn?atclNo=1818617671&atclRletTypeCd=A02&rletTypeCd=A02&tradeTypeCd=A1',\n",
       " 'https://land.naver.com//article/articleDetailInfo.nhn?atclNo=1817912362&atclRletTypeCd=A02&rletTypeCd=A02&tradeTypeCd=A1',\n",
       " 'https://land.naver.com//article/articleDetailInfo.nhn?atclNo=1817912772&atclRletTypeCd=A02&rletTypeCd=A02&tradeTypeCd=A1',\n",
       " 'https://land.naver.com//article/articleDetailInfo.nhn?atclNo=1817769525&atclRletTypeCd=A02&rletTypeCd=A02&tradeTypeCd=A1',\n",
       " 'https://land.naver.com//article/articleDetailInfo.nhn?atclNo=1817012434&atclRletTypeCd=A02&rletTypeCd=A02&tradeTypeCd=A1',\n",
       " 'https://land.naver.com//article/articleDetailInfo.nhn?atclNo=1818863653&atclRletTypeCd=A02&rletTypeCd=A02&tradeTypeCd=A1']"
      ]
     },
     "execution_count": 2,
     "metadata": {},
     "output_type": "execute_result"
    }
   ],
   "source": [
    "from urllib import request as rq\n",
    "from bs4 import BeautifulSoup as bs\n",
    "\n",
    "# gangnam_dict = {\"개포동\":1168010300, \"논현동\":1168010800}\n",
    "# village = input(\"동을 입력해주세요.\")\n",
    "# village_code = gangnam_dict[village]\n",
    "\n",
    "root_url = \"https://land.naver.com/\"\n",
    "searching_url_list = []\n",
    "\n",
    "# basic_url = 'https://land.naver.com/article/articleList.nhn?rletTypeCd=A02&tradeTypeCd=A1&hscpTypeCd=A02&cortarNo=%d'%village_code\n",
    "basic_url = 'https://land.naver.com/article/articleList.nhn?rletTypeCd=A02&tradeTypeCd=A1&hscpTypeCd=A02&cortarNo=1168010300'\n",
    "basic_html = rq.urlopen(basic_url).read()\n",
    "basic_soup = bs(basic_html, \"html.parser\")\n",
    "basic_elems = basic_soup.find_all(\"span\", {\"class\":\"btn_naverlink\"})\n",
    "for i in range(len(basic_elems)):\n",
    "    estate_url = root_url + basic_elems[i].find(\"a\").attrs[\"href\"]\n",
    "    searching_url_list.append(estate_url)\n",
    "    \n",
    "searching_url_list\n"
   ]
  },
  {
   "cell_type": "code",
   "execution_count": 48,
   "metadata": {},
   "outputs": [
    {
     "name": "stdout",
     "output_type": "stream",
     "text": [
      "대청타워 1동 20000\n"
     ]
    }
   ],
   "source": [
    "searching_url = searching_url_list[0]\n",
    "searching_html = rq.urlopen(searching_url).read()\n",
    "searching_soup = bs(searching_html, \"html.parser\")\n",
    "\n",
    "# title\n",
    "title_elem = searching_soup.find(\"h2\", {\"class\":\"t_adr ellipsis\"})\n",
    "title = title_elem.text\n",
    "\n",
    "# get price\n",
    "rate_basic = searching_soup.find_all(\"p\", {\"class\":\"rate_info\"})\n",
    "price = rate_basic[1].find_all(\"span\")[0].text\n",
    "price = int(price.split(\"만\")[0].replace(\",\",\"\"))\n",
    "print(title, price)"
   ]
  },
  {
   "cell_type": "code",
   "execution_count": 4,
   "metadata": {},
   "outputs": [
    {
     "name": "stdout",
     "output_type": "stream",
     "text": [
      "55.2 32.44\n"
     ]
    }
   ],
   "source": [
    "# get contract area\n",
    "areas = \"\"\n",
    "area = rate_basic[0].find_all(\"span\")\n",
    "for i in range(len(area)):\n",
    "    areas += area[i].text\n",
    "    \n",
    "areas_list = areas.split('/')\n",
    "contract_area = float(areas_list[0])\n",
    "\n",
    "# get exclusive area\n",
    "exclusive_area = float(areas_list[1].split('㎡')[0])\n",
    "\n",
    "print(contract_area, exclusive_area)"
   ]
  },
  {
   "cell_type": "code",
   "execution_count": 14,
   "metadata": {},
   "outputs": [
    {
     "name": "stdout",
     "output_type": "stream",
     "text": [
      "6 26\n"
     ]
    }
   ],
   "source": [
    "# specific floor\n",
    "summary_basic = searching_soup.find(\"div\", {\"class\":\"view_info\"}).find_all(\"div\", {\"class\":\"inner\"})\n",
    "floors = summary_basic[1].text.split(\"/\")\n",
    "specific_floor = int(floors[0])\n",
    "\n",
    "# total floor\n",
    "total_floor = int(floors[1].split(\"층\")[0])\n",
    "\n",
    "print(specific_floor, total_floor)"
   ]
  },
  {
   "cell_type": "code",
   "execution_count": 15,
   "metadata": {},
   "outputs": [
    {
     "name": "stdout",
     "output_type": "stream",
     "text": [
      "1 1\n"
     ]
    }
   ],
   "source": [
    "# rooms\n",
    "room_and_bath = summary_basic[3].text.split(\"/\")\n",
    "rooms = int(room_and_bath[0])\n",
    "\n",
    "# baths\n",
    "baths = int(room_and_bath[1].split('개')[0])\n",
    "\n",
    "print(rooms, baths)"
   ]
  },
  {
   "cell_type": "code",
   "execution_count": 24,
   "metadata": {},
   "outputs": [
    {
     "name": "stdout",
     "output_type": "stream",
     "text": [
      "0\n"
     ]
    }
   ],
   "source": [
    "# loan amount\n",
    "try:\n",
    "    loan_amount = int(summary_basic[5].text.split(\"만\")[0])\n",
    "except ValueError as e:\n",
    "    loan_amount = 0\n",
    "    \n",
    "print(loan_amount)"
   ]
  },
  {
   "cell_type": "code",
   "execution_count": 28,
   "metadata": {},
   "outputs": [
    {
     "name": "stdout",
     "output_type": "stream",
     "text": [
      "즉시입주\n"
     ]
    }
   ],
   "source": [
    "# moveable\n",
    "try:\n",
    "    moveable = summary_basic[7].text\n",
    "except ValueError as e:\n",
    "    moveable = \"-\"\n",
    "    \n",
    "print(moveable)"
   ]
  },
  {
   "cell_type": "code",
   "execution_count": 33,
   "metadata": {},
   "outputs": [
    {
     "name": "stdout",
     "output_type": "stream",
     "text": [
      "100000\n"
     ]
    }
   ],
   "source": [
    "# administration cost\n",
    "try:\n",
    "    administration_cost = int(summary_basic[9].text.split(\"원\")[0].strip().replace(\",\",\"\"))\n",
    "except ValueError as e:\n",
    "    administration_cost = \"-\"\n",
    "    \n",
    "print(administration_cost)"
   ]
  },
  {
   "cell_type": "code",
   "execution_count": 36,
   "metadata": {},
   "outputs": [
    {
     "name": "stdout",
     "output_type": "stream",
     "text": [
      "500 65\n"
     ]
    }
   ],
   "source": [
    "# deposit amount\n",
    "\n",
    "deposit_and_rentfee = summary_basic[11].text.split(\"/\")\n",
    "try:    \n",
    "    deposit = int(deposit_and_rentfee[0].strip())\n",
    "except ValueError as e:\n",
    "    deposit = \"-\"\n",
    "    \n",
    "# rent fee\n",
    "try:\n",
    "    rent_fee = int(deposit_and_rentfee[1].split(\"만\")[0].strip())\n",
    "except ValueError as e:\n",
    "    rent_fee = \"-\"\n",
    "    \n",
    "print(deposit, rent_fee)    "
   ]
  },
  {
   "cell_type": "code",
   "execution_count": 43,
   "metadata": {},
   "outputs": [
    {
     "data": {
      "text/plain": [
       "'탁트인공원전망 오래월세중 수익좋음'"
      ]
     },
     "execution_count": 43,
     "metadata": {},
     "output_type": "execute_result"
    }
   ],
   "source": [
    "# characteristics\n",
    "try:\n",
    "    characteristics = summary_basic[13].text\n",
    "except ValueError as e:\n",
    "    characteristics = \"-\"\n",
    "characteristics"
   ]
  },
  {
   "cell_type": "code",
   "execution_count": 45,
   "metadata": {},
   "outputs": [
    {
     "name": "stdout",
     "output_type": "stream",
     "text": [
      "나산공인중개사사무소 02-3413-7700 l 소재지 대표: 변동주 010-6207-3097 \n"
     ]
    }
   ],
   "source": [
    "# intermediary\n",
    "try:\n",
    "    intermediary = summary_basic[15].text\n",
    "except ValueError as e:\n",
    "    intermediary = \"-\"\n",
    "    \n",
    "print(intermediary)"
   ]
  },
  {
   "cell_type": "code",
   "execution_count": null,
   "metadata": {
    "collapsed": true
   },
   "outputs": [],
   "source": []
  },
  {
   "cell_type": "code",
   "execution_count": null,
   "metadata": {
    "collapsed": true
   },
   "outputs": [],
   "source": []
  },
  {
   "cell_type": "code",
   "execution_count": null,
   "metadata": {
    "collapsed": true
   },
   "outputs": [],
   "source": []
  },
  {
   "cell_type": "code",
   "execution_count": null,
   "metadata": {
    "collapsed": true
   },
   "outputs": [],
   "source": []
  },
  {
   "cell_type": "code",
   "execution_count": null,
   "metadata": {
    "collapsed": true
   },
   "outputs": [],
   "source": []
  },
  {
   "cell_type": "code",
   "execution_count": null,
   "metadata": {},
   "outputs": [],
   "source": []
  },
  {
   "cell_type": "code",
   "execution_count": null,
   "metadata": {
    "collapsed": true
   },
   "outputs": [],
   "source": []
  }
 ],
 "metadata": {
  "kernelspec": {
   "display_name": "Python 3",
   "language": "python",
   "name": "python3"
  },
  "language_info": {
   "codemirror_mode": {
    "name": "ipython",
    "version": 3
   },
   "file_extension": ".py",
   "mimetype": "text/x-python",
   "name": "python",
   "nbconvert_exporter": "python",
   "pygments_lexer": "ipython3",
   "version": "3.6.3"
  }
 },
 "nbformat": 4,
 "nbformat_minor": 2
}
