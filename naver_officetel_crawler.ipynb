{
 "cells": [
  {
   "cell_type": "code",
   "execution_count": 5,
   "metadata": {},
   "outputs": [
    {
     "data": {
      "text/plain": [
       "'\\n오피스텔 : rletTypeCd=A02\\n매매 : tradeTypeCd=A1\\nHighest Year of School Completed : hscpTypeCd=A02\\n법정동 코드 API http://juso.seoul.go.kr/openapi/helps/SearchApi_jibun.aspx\\n1168010300 개포동\\n1168010800 논현동\\n1168010600 대치동\\n1168011800 도곡동\\n1168010500 삼성동\\n1168011100 세곡동\\n1168011500 수서동\\n1168010700 신사동\\n'"
      ]
     },
     "execution_count": 5,
     "metadata": {},
     "output_type": "execute_result"
    }
   ],
   "source": [
    "'''\n",
    "오피스텔 : rletTypeCd=A02\n",
    "매매 : tradeTypeCd=A1\n",
    "Highest Year of School Completed : hscpTypeCd=A02\n",
    "법정동 코드 API http://juso.seoul.go.kr/openapi/helps/SearchApi_jibun.aspx\n",
    "https://www.code.go.kr/ \n",
    "1168010300 개포동\n",
    "1168010800 논현동\n",
    "1168010600 대치동\n",
    "1168011800 도곡동\n",
    "1168010500 삼성동\n",
    "1168011100 세곡동\n",
    "1168011500 수서동\n",
    "1168010700 신사동\n",
    "'''"
   ]
  },
  {
   "cell_type": "code",
   "execution_count": 33,
   "metadata": {},
   "outputs": [
    {
     "data": {
      "text/plain": [
       "['https://land.naver.com//article/articleDetailInfo.nhn?atclNo=1818572578&atclRletTypeCd=A02&rletTypeCd=A02&tradeTypeCd=A1',\n",
       " 'https://land.naver.com//article/articleDetailInfo.nhn?atclNo=1818617671&atclRletTypeCd=A02&rletTypeCd=A02&tradeTypeCd=A1',\n",
       " 'https://land.naver.com//article/articleDetailInfo.nhn?atclNo=1817912362&atclRletTypeCd=A02&rletTypeCd=A02&tradeTypeCd=A1',\n",
       " 'https://land.naver.com//article/articleDetailInfo.nhn?atclNo=1817912772&atclRletTypeCd=A02&rletTypeCd=A02&tradeTypeCd=A1',\n",
       " 'https://land.naver.com//article/articleDetailInfo.nhn?atclNo=1817769525&atclRletTypeCd=A02&rletTypeCd=A02&tradeTypeCd=A1',\n",
       " 'https://land.naver.com//article/articleDetailInfo.nhn?atclNo=1817012434&atclRletTypeCd=A02&rletTypeCd=A02&tradeTypeCd=A1',\n",
       " 'https://land.naver.com//article/articleDetailInfo.nhn?atclNo=1817361876&atclRletTypeCd=A02&rletTypeCd=A02&tradeTypeCd=A1']"
      ]
     },
     "execution_count": 33,
     "metadata": {},
     "output_type": "execute_result"
    }
   ],
   "source": [
    "from urllib import request as rq\n",
    "from bs4 import BeautifulSoup as bs\n",
    "\n",
    "# gangnam_dict = {\"개포동\":1168010300, \"논현동\":1168010800}\n",
    "# village = input(\"동을 입력해주세요.\")\n",
    "# village_code = gangnam_dict[village]\n",
    "\n",
    "root_url = \"https://land.naver.com/\"\n",
    "searching_url_list = []\n",
    "\n",
    "# basic_url = 'https://land.naver.com/article/articleList.nhn?rletTypeCd=A02&tradeTypeCd=A1&hscpTypeCd=A02&cortarNo=%d'%village_code\n",
    "basic_url = 'https://land.naver.com/article/articleList.nhn?rletTypeCd=A02&tradeTypeCd=A1&hscpTypeCd=A02&cortarNo=1168010300'\n",
    "basic_html = rq.urlopen(basic_url).read()\n",
    "basic_soup = bs(basic_html, \"html.parser\")\n",
    "basic_elems = basic_soup.find_all(\"span\", {\"class\":\"btn_naverlink\"})\n",
    "for i in range(len(basic_elems)):\n",
    "    estate_url = root_url + basic_elems[i].find(\"a\").attrs[\"href\"]\n",
    "    searching_url_list.append(estate_url)\n",
    "    \n",
    "searching_url_list\n"
   ]
  },
  {
   "cell_type": "code",
   "execution_count": 49,
   "metadata": {},
   "outputs": [
    {
     "data": {
      "text/plain": [
       "20000"
      ]
     },
     "execution_count": 49,
     "metadata": {},
     "output_type": "execute_result"
    }
   ],
   "source": [
    "searching_url = searching_url_list[0]\n",
    "searching_html = rq.urlopen(searching_url).read()\n",
    "searching_soup = bs(searching_html, \"html.parser\")\n",
    "\n",
    "# get price\n",
    "rate_basic = searching_soup.find_all(\"p\", {\"class\":\"rate_info\"})\n",
    "price = rate_basic[1].find_all(\"span\")[0].text\n",
    "price = int(price.split(\"만\")[0].replace(\",\",\"\"))\n",
    "price"
   ]
  },
  {
   "cell_type": "code",
   "execution_count": 61,
   "metadata": {},
   "outputs": [
    {
     "name": "stdout",
     "output_type": "stream",
     "text": [
      "55.2 32.44\n"
     ]
    }
   ],
   "source": [
    "# get contract area\n",
    "areas = \"\"\n",
    "area = rate_basic[0].find_all(\"span\")\n",
    "for i in range(len(area)):\n",
    "    areas += area[i].text\n",
    "    \n",
    "areas_list = areas.split('/')\n",
    "contract_area = float(areas_list[0])\n",
    "\n",
    "# get exclusive area\n",
    "exclusive_area = float(areas_list[1].split('㎡')[0])\n",
    "\n",
    "print(contract_area, exclusive_area)"
   ]
  },
  {
   "cell_type": "code",
   "execution_count": null,
   "metadata": {
    "collapsed": true
   },
   "outputs": [],
   "source": []
  }
 ],
 "metadata": {
  "kernelspec": {
   "display_name": "Python 3",
   "language": "python",
   "name": "python3"
  },
  "language_info": {
   "codemirror_mode": {
    "name": "ipython",
    "version": 3
   },
   "file_extension": ".py",
   "mimetype": "text/x-python",
   "name": "python",
   "nbconvert_exporter": "python",
   "pygments_lexer": "ipython3",
   "version": "3.6.3"
  }
 },
 "nbformat": 4,
 "nbformat_minor": 2
}
