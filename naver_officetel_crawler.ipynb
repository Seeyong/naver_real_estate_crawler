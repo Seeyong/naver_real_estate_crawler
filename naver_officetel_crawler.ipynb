{
 "cells": [
  {
   "cell_type": "code",
   "execution_count": 475,
   "metadata": {
    "scrolled": true
   },
   "outputs": [
    {
     "data": {
      "text/plain": [
       "'\\nDataFrame 상에서 추가적인 연산처리\\n\\n2018. 10. 19 Developed by Seeyong\\nNaverOfficetel Crawler\\nV 1.0\\n'"
      ]
     },
     "execution_count": 475,
     "metadata": {},
     "output_type": "execute_result"
    }
   ],
   "source": [
    "'''\n",
    "DataFrame 상에서 추가적인 연산처리\n",
    "\n",
    "2018. 10. 19 Developed by Seeyong\n",
    "NaverOfficetel Crawler\n",
    "V 1.0\n",
    "'''"
   ]
  },
  {
   "cell_type": "code",
   "execution_count": 476,
   "metadata": {},
   "outputs": [
    {
     "data": {
      "text/plain": [
       "'\\n오피스텔 : rletTypeCd=A02\\n매매 : tradeTypeCd=A1\\nHighest Year of School Completed : hscpTypeCd=A02\\n법정동 코드 API http://juso.seoul.go.kr/openapi/helps/SearchApi_jibun.aspx\\nhttp://www.code.go.kr/\\nhttps://financedata.github.io/posts/korea-area-code.html\\n'"
      ]
     },
     "execution_count": 476,
     "metadata": {},
     "output_type": "execute_result"
    }
   ],
   "source": [
    "'''\n",
    "오피스텔 : rletTypeCd=A02\n",
    "매매 : tradeTypeCd=A1\n",
    "Highest Year of School Completed : hscpTypeCd=A02\n",
    "법정동 코드 API http://juso.seoul.go.kr/openapi/helps/SearchApi_jibun.aspx\n",
    "http://www.code.go.kr/\n",
    "https://financedata.github.io/posts/korea-area-code.html\n",
    "'''"
   ]
  },
  {
   "cell_type": "markdown",
   "metadata": {},
   "source": [
    "# Import Libraries"
   ]
  },
  {
   "cell_type": "code",
   "execution_count": 477,
   "metadata": {
    "collapsed": true
   },
   "outputs": [],
   "source": [
    "from urllib import request as rq\n",
    "from bs4 import BeautifulSoup as bs\n",
    "from datetime import datetime\n",
    "import pandas as pd\n",
    "from tqdm import tqdm\n",
    "from time import sleep\n",
    "import random\n",
    "from multiprocessing import Pool\n",
    "import numpy as np"
   ]
  },
  {
   "cell_type": "markdown",
   "metadata": {},
   "source": [
    "# Get province from user"
   ]
  },
  {
   "cell_type": "code",
   "execution_count": 478,
   "metadata": {},
   "outputs": [],
   "source": [
    "def getProvince(df_village_code):\n",
    "    city_number = \"0.전지역 | \\n\"\n",
    "    city_dict = {0: '전지역'}\n",
    "    city_list = list(df_village_code[\"도시\"].unique())\n",
    "\n",
    "    for number, city in enumerate(city_list):\n",
    "        if (number+1) % 3 == 0:\n",
    "            city_number += str(number+1) + '.' + city + ' | \\n'\n",
    "        else:\n",
    "            city_number += str(number+1) + '.' + city + ' | '\n",
    "\n",
    "        city_dict[number+1] = city\n",
    "        \n",
    "    city_number = city_number + '18.예시(삼성동)'\n",
    "    city_dict[18] = '(예시)삼성동'\n",
    "        \n",
    "    while True:\n",
    "        try:\n",
    "            province_num = int(input(\"원하는 도시의 번호를 선택해주세요\\n\" + city_number))\n",
    "            province = city_dict[province_num]\n",
    "        except ValueError as e:\n",
    "            print(\"숫자로 입력해주세요.\")\n",
    "            continue\n",
    "        except KeyError as k:\n",
    "            print(\"0 ~ 19 사이의 숫자로 입력해주세요.\")\n",
    "            continue\n",
    "        break\n",
    "            \n",
    "    return province"
   ]
  },
  {
   "cell_type": "markdown",
   "metadata": {},
   "source": [
    "# Get ```contents_urls```"
   ]
  },
  {
   "cell_type": "code",
   "execution_count": 479,
   "metadata": {
    "scrolled": true
   },
   "outputs": [],
   "source": [
    "def getContentsUrls(village_list):\n",
    "    root_url = \"https://land.naver.com/\"\n",
    "    searching_url_list = []\n",
    "    max_page = 20\n",
    "    \n",
    "    for village in village_list:\n",
    "        code = df_village_code[df_village_code[\"동\"] == village]['법정동코드'].values[0]\n",
    "        for page_number in range(1, max_page+1):\n",
    "            basic_url = 'https://land.naver.com/article/articleList.nhn?rletTypeCd=A02&tradeTypeCd=A1&hscpTypeCd=A02&cortarNo={code}&articleOrderCode=&siteOrderCode=&cpId=&mapX=&mapY=&mapLevel=&minPrc=&maxPrc=&minWrrnt=&maxWrrnt=&minLease=&maxLease=&minSpc=&maxSpc=&subDist=&mviDate=&hsehCnt=&rltrId=&mnex=&mHscpNo=&mPtpRange=&mnexOrder=&location=1924&ptpNo=&bssYm=&schlCd=&cmplYn=&page={page_number}#_content_list_target'.format(code=code, page_number=page_number)\n",
    "            basic_url = rq.Request(basic_url,\n",
    "                      headers={\n",
    "                          'User-Agent':'Mozilla/5.0 (Macintosh; Intel Mac OS X 10_14_0) AppleWebKit/537.36 (KHTML, like Gecko) Chrome/69.0.3497.100 Safari/537.36'\n",
    "                      })\n",
    "            basic_html = rq.urlopen(basic_url).read()\n",
    "            basic_soup = bs(basic_html, \"html.parser\")\n",
    "            basic_elems = basic_soup.find_all(\"span\", {\"class\":\"btn_naverlink\"})\n",
    "            \n",
    "            # ban 방지용 : 페이지가 2의 배수일 때 쉼\n",
    "            if page_number%2 == 0:\n",
    "                sleeptime = random.randint(3,7)\n",
    "                sleep(sleeptime)\n",
    "            \n",
    "            # 마지막 페이징에서 break\n",
    "            if basic_elems == []:\n",
    "                break\n",
    "\n",
    "            else:\n",
    "                for i in range(len(basic_elems)):\n",
    "                    estate_url = root_url + basic_elems[i].find(\"a\").attrs[\"href\"]\n",
    "                    searching_url_list.append(estate_url)\n",
    "                    \n",
    "    return searching_url_list"
   ]
  },
  {
   "cell_type": "code",
   "execution_count": 480,
   "metadata": {},
   "outputs": [],
   "source": [
    "def getContentsTitle(searching_soup):\n",
    "    # title\n",
    "    try:\n",
    "        title_elem = searching_soup.find(\"h2\", {\"class\":\"t_adr\"})\n",
    "        title = title_elem.text\n",
    "    except (ValueError, AttributeError, IndexError) as e:\n",
    "        title = \"-\"\n",
    "    return title"
   ]
  },
  {
   "cell_type": "code",
   "execution_count": 481,
   "metadata": {},
   "outputs": [],
   "source": [
    "def getContentsPrice(searching_soup):\n",
    "    # get price\n",
    "    try:\n",
    "        rate_basic = searching_soup.find_all(\"p\", {\"class\":\"rate_info\"})\n",
    "        price = rate_basic[1].find_all(\"span\")[0].text\n",
    "        price = int(price.split(\"만\")[0].replace(\",\",\"\"))\n",
    "    except (ValueError, AttributeError, IndexError) as e:\n",
    "        price = \"-\"\n",
    "    return price"
   ]
  },
  {
   "cell_type": "code",
   "execution_count": 482,
   "metadata": {},
   "outputs": [],
   "source": [
    "def getContractArea(searching_soup):\n",
    "    # get contract area\n",
    "    try:\n",
    "        rate_basic = searching_soup.find_all(\"p\", {\"class\":\"rate_info\"})\n",
    "        areas = \"\"\n",
    "        area = rate_basic[0].find_all(\"span\")\n",
    "        for i in range(len(area)):\n",
    "            areas += area[i].text\n",
    "\n",
    "        areas_list = areas.split('/')\n",
    "        contract_area = float(areas_list[0])\n",
    "    except (ValueError, AttributeError, IndexError) as e:\n",
    "            contract_area = \"-\"\n",
    "    return contract_area"
   ]
  },
  {
   "cell_type": "code",
   "execution_count": 483,
   "metadata": {
    "collapsed": true
   },
   "outputs": [],
   "source": [
    "def getExclusiveArea(searching_soup):\n",
    "    # get exclusive area\n",
    "    try:\n",
    "        rate_basic = searching_soup.find_all(\"p\", {\"class\":\"rate_info\"})\n",
    "        areas = \"\"\n",
    "        area = rate_basic[0].find_all(\"span\")\n",
    "        for i in range(len(area)):\n",
    "            areas += area[i].text\n",
    "\n",
    "        areas_list = areas.split('/')\n",
    "        exclusive_area = float(areas_list[1].split('㎡')[0])\n",
    "    except (ValueError, AttributeError, IndexError) as e:\n",
    "            exclusive_area = \"-\"\n",
    "    return exclusive_area"
   ]
  },
  {
   "cell_type": "code",
   "execution_count": 484,
   "metadata": {
    "collapsed": true
   },
   "outputs": [],
   "source": [
    "def getSpecificFloor(searching_soup):\n",
    "    # specific floor\n",
    "    try:\n",
    "        summary_basic = searching_soup.find(\"div\", {\"class\":\"view_info\"}).find_all(\"div\", {\"class\":\"inner\"})\n",
    "        floors = summary_basic[1].text.split(\"/\")\n",
    "        specific_floor = int(floors[0])\n",
    "    except (ValueError, AttributeError, IndexError) as e:\n",
    "        specific_floor = \"-\"\n",
    "    return specific_floor"
   ]
  },
  {
   "cell_type": "code",
   "execution_count": 485,
   "metadata": {},
   "outputs": [],
   "source": [
    "def getTotalFloor(searching_soup):\n",
    "    # total floor\n",
    "    try:\n",
    "        summary_basic = searching_soup.find(\"div\", {\"class\":\"view_info\"}).find_all(\"div\", {\"class\":\"inner\"})\n",
    "        floors = summary_basic[1].text.split(\"/\")\n",
    "        total_floor = int(floors[1].split(\"층\")[0])\n",
    "    except (ValueError, AttributeError, IndexError) as e:\n",
    "        total_floor = \"-\"\n",
    "    return total_floor"
   ]
  },
  {
   "cell_type": "code",
   "execution_count": 486,
   "metadata": {
    "collapsed": true
   },
   "outputs": [],
   "source": [
    "def getRooms(searching_soup):\n",
    "    # rooms\n",
    "    try:\n",
    "        summary_basic = searching_soup.find(\"div\", {\"class\":\"view_info\"}).find_all(\"div\", {\"class\":\"inner\"})\n",
    "        room_and_bath = summary_basic[3].text.split(\"/\")\n",
    "        rooms = int(room_and_bath[0])\n",
    "    except (ValueError, AttributeError, IndexError) as e:\n",
    "        rooms = \"-\"\n",
    "    return rooms"
   ]
  },
  {
   "cell_type": "code",
   "execution_count": 487,
   "metadata": {},
   "outputs": [],
   "source": [
    "def getBaths(searching_soup):\n",
    "    # baths\n",
    "    try:\n",
    "        summary_basic = searching_soup.find(\"div\", {\"class\":\"view_info\"}).find_all(\"div\", {\"class\":\"inner\"})\n",
    "        room_and_bath = summary_basic[3].text.split(\"/\")\n",
    "        baths = int(room_and_bath[1].split('개')[0])\n",
    "    except (ValueError, AttributeError, IndexError) as e:\n",
    "        baths = \"-\"\n",
    "    return baths"
   ]
  },
  {
   "cell_type": "code",
   "execution_count": 488,
   "metadata": {},
   "outputs": [],
   "source": [
    "def getLoanAmount(searching_soup):\n",
    "    # loan amount\n",
    "    try:\n",
    "        summary_basic = searching_soup.find(\"div\", {\"class\":\"view_info\"}).find_all(\"div\", {\"class\":\"inner\"})\n",
    "        loan_amount = int(summary_basic[5].text.split(\"만\")[0].replace(',',''))\n",
    "    except (ValueError, AttributeError, IndexError) as e:\n",
    "        loan_amount = \"-\"\n",
    "    return loan_amount"
   ]
  },
  {
   "cell_type": "code",
   "execution_count": 489,
   "metadata": {},
   "outputs": [],
   "source": [
    "def getMoveable(searching_soup):\n",
    "    # moveable\n",
    "    try:\n",
    "        summary_basic = searching_soup.find(\"div\", {\"class\":\"view_info\"}).find_all(\"div\", {\"class\":\"inner\"})\n",
    "        moveable = summary_basic[7].text\n",
    "    except (ValueError, AttributeError, IndexError) as e:\n",
    "        moveable = \"-\"\n",
    "    return moveable"
   ]
  },
  {
   "cell_type": "code",
   "execution_count": 490,
   "metadata": {},
   "outputs": [],
   "source": [
    "def getAdminCost(searching_soup):\n",
    "    # administration cost\n",
    "    try:\n",
    "        summary_basic = searching_soup.find(\"div\", {\"class\":\"view_info\"}).find_all(\"div\", {\"class\":\"inner\"})\n",
    "        administration_cost = int(summary_basic[9].text.split(\"원\")[0].strip().replace(\",\",\"\"))\n",
    "    except (ValueError, AttributeError, IndexError) as e:\n",
    "        administration_cost = \"-\"\n",
    "    return administration_cost"
   ]
  },
  {
   "cell_type": "code",
   "execution_count": 491,
   "metadata": {
    "collapsed": true
   },
   "outputs": [],
   "source": [
    "def getDepositAmount(searching_soup):\n",
    "    # deposit amount\n",
    "    try:  \n",
    "        summary_basic = searching_soup.find(\"div\", {\"class\":\"view_info\"}).find_all(\"div\", {\"class\":\"inner\"})\n",
    "        deposit_and_rentfee = summary_basic[11].text.split(\"/\")  \n",
    "        deposit = int(deposit_and_rentfee[0].replace(',','').strip())\n",
    "    except (ValueError, AttributeError, IndexError) as e:\n",
    "        deposit = \"-\"\n",
    "    return deposit"
   ]
  },
  {
   "cell_type": "code",
   "execution_count": 492,
   "metadata": {},
   "outputs": [],
   "source": [
    "def getRentFee(searching_soup):\n",
    "    # rent fee\n",
    "    try:\n",
    "        summary_basic = searching_soup.find(\"div\", {\"class\":\"view_info\"}).find_all(\"div\", {\"class\":\"inner\"})\n",
    "        deposit_and_rentfee = summary_basic[11].text.split(\"/\")\n",
    "        rent_fee = int(deposit_and_rentfee[1].split(\"만\")[0].strip().replace(',',''))\n",
    "    except (ValueError, AttributeError, IndexError) as e:\n",
    "        rent_fee = \"-\"\n",
    "    return rent_fee"
   ]
  },
  {
   "cell_type": "code",
   "execution_count": 493,
   "metadata": {},
   "outputs": [],
   "source": [
    "def getChar(searching_soup):\n",
    "    # characteristics\n",
    "    try:\n",
    "        summary_basic = searching_soup.find(\"div\", {\"class\":\"view_info\"}).find_all(\"div\", {\"class\":\"inner\"})\n",
    "        characteristics = summary_basic[13].text\n",
    "    except (ValueError, AttributeError, IndexError) as e:\n",
    "        characteristics = \"-\"\n",
    "    return characteristics"
   ]
  },
  {
   "cell_type": "code",
   "execution_count": 494,
   "metadata": {},
   "outputs": [],
   "source": [
    "def getInterm(searching_soup):\n",
    "    # intermediary\n",
    "    try:\n",
    "        summary_basic = searching_soup.find(\"div\", {\"class\":\"view_info\"}).find_all(\"div\", {\"class\":\"inner\"})\n",
    "        intermediary = summary_basic[15].text\n",
    "    except (ValueError, AttributeError, IndexError) as e:\n",
    "        intermediary = \"-\"\n",
    "    return intermediary"
   ]
  },
  {
   "cell_type": "code",
   "execution_count": 495,
   "metadata": {},
   "outputs": [],
   "source": [
    "def getUtilityBills(searching_soup):\n",
    "    # utility bills\n",
    "    try:\n",
    "        tax_soup = searching_soup.find_all('ul', {\"class\":\"lst_tax\"})[1]\n",
    "        replaceable_chr_list = ['\\\\', 'n', 't', ',', ' ', '약', '원']\n",
    "        utility_bills = tax_soup.find(\"strong\", {\"class\":\"highlight\"}).text\n",
    "\n",
    "        for i in replaceable_chr_list:\n",
    "\n",
    "            utility_bills = utility_bills.replace(i, '').strip()\n",
    "\n",
    "        utility_bills = int(utility_bills)\n",
    "\n",
    "    except (ValueError, AttributeError, IndexError) as e:\n",
    "        utility_bills = \"-\"\n",
    "    \n",
    "    return utility_bills"
   ]
  },
  {
   "cell_type": "code",
   "execution_count": 496,
   "metadata": {},
   "outputs": [],
   "source": [
    "def getIntermPay(searching_soup):\n",
    "    # intermediate pay\n",
    "    try:\n",
    "        intermediate_soup = searching_soup.find_all('ul', {\"class\":\"lst_tax\"})[0]\n",
    "        intermediate_pay = int(intermediate_soup.find(\"strong\").text)\n",
    "    except (ValueError, AttributeError, IndexError) as e:\n",
    "        intermediate_pay = \"-\"\n",
    "    return intermediate_pay"
   ]
  },
  {
   "cell_type": "code",
   "execution_count": 497,
   "metadata": {},
   "outputs": [],
   "source": [
    "def getCompletionDate(searching_soup):\n",
    "    # completion date\n",
    "    try:\n",
    "        completion_elem = searching_soup.find(\"div\", {\"class\":\"div_detail\"}).find_all(\"div\", {\"class\":\"inner\"})\n",
    "        completion_date = datetime.strptime(completion_elem[-1].text, '%Y.%m.')\n",
    "    except (ValueError, AttributeError, IndexError) as e:\n",
    "        completion_date = \"-\"\n",
    "    return completion_date"
   ]
  },
  {
   "cell_type": "code",
   "execution_count": 502,
   "metadata": {
    "collapsed": true
   },
   "outputs": [],
   "source": [
    "def createExcelFile(df):\n",
    "    today = datetime.today()\n",
    "    str_today = str(today.year) + str(today.month) + str(today.day)\n",
    "    file_name = province + '_' + \"Officetel_\" + str_today + \".xlsx\"\n",
    "    sheet_name = province + \"_\" + str_today\n",
    "    writer = pd.ExcelWriter(file_name)\n",
    "    df.to_excel(writer, sheet_name)\n",
    "    writer.save()"
   ]
  },
  {
   "cell_type": "code",
   "execution_count": 499,
   "metadata": {
    "collapsed": true
   },
   "outputs": [],
   "source": [
    "def getResult(searching_url_list):\n",
    "    # create null list for DataFrame\n",
    "    result = []\n",
    "    \n",
    "    for url in tqdm(searching_url_list):\n",
    "        # ban 방지용 : url 개수가 10의 배수일 때 더 오래 쉼\n",
    "        if searching_url_list.index(url)%10 == 0:\n",
    "            sleep(25)\n",
    "            \n",
    "        url_user = rq.Request(url,\n",
    "                  headers={\n",
    "                          'User-Agent':'Mozilla/5.0 (Macintosh; Intel Mac OS X 10_14_0) AppleWebKit/537.36 (KHTML, like Gecko) Chrome/69.0.3497.100 Safari/537.36'\n",
    "                      })\n",
    "        searching_html = rq.urlopen(url_user).read()\n",
    "        searching_soup = bs(searching_html, \"html.parser\")\n",
    "\n",
    "        title = getContentsTitle(searching_soup)\n",
    "        price = getContentsPrice(searching_soup)\n",
    "        contract_area = getContractArea(searching_soup)\n",
    "        exclusive_area = getExclusiveArea(searching_soup)\n",
    "        specific_floor = getSpecificFloor(searching_soup)\n",
    "        total_floor = getTotalFloor(searching_soup)\n",
    "        rooms = getRooms(searching_soup)\n",
    "        baths = getBaths(searching_soup)\n",
    "        loan_amount = getLoanAmount(searching_soup)\n",
    "        moveable = getMoveable(searching_soup)\n",
    "        administration_cost = getAdminCost(searching_soup)\n",
    "        deposit = getDepositAmount(searching_soup)\n",
    "        rent_fee = getRentFee(searching_soup)\n",
    "        characteristics = getChar(searching_soup)\n",
    "        intermediary = getInterm(searching_soup)\n",
    "        utility_bills = getUtilityBills(searching_soup)\n",
    "        intermediate_pay = getIntermPay(searching_soup)\n",
    "        completion_date = getCompletionDate(searching_soup)\n",
    "        \n",
    "        info_list = [title, price, contract_area, exclusive_area, specific_floor, total_floor, rooms, baths, loan_amount, moveable,\n",
    "                     administration_cost, deposit, rent_fee, characteristics, intermediary, utility_bills, intermediate_pay, completion_date, url]\n",
    "        \n",
    "        result.append(info_list)\n",
    "        \n",
    "    return result"
   ]
  },
  {
   "cell_type": "markdown",
   "metadata": {},
   "source": [
    "# Main ```function```"
   ]
  },
  {
   "cell_type": "code",
   "execution_count": 500,
   "metadata": {},
   "outputs": [],
   "source": [
    "def main():\n",
    "    \n",
    "    # public village infos\n",
    "    df_village_code = pd.read_csv('http://bit.ly/2PeVzTS', sep='\\t', dtype={'법정동코드':str})\n",
    "    df_village_code = df_village_code[df_village_code[\"폐지여부\"] == \"존재\"]\n",
    "    \n",
    "    # get 동 list\n",
    "    village_lists = list(df_village_code['법정동명'].str.split(' '))\n",
    "    village_list = [x[-1] for x in village_lists]\n",
    "    \n",
    "    # get 도시 list\n",
    "    city_list = [x[0] for x in village_lists]\n",
    "    \n",
    "    # create village_DataFrame\n",
    "    df_village_code[\"도시\"] = city_list\n",
    "    df_village_code[\"동\"] = village_list\n",
    "    df_village_code = df_village_code[df_village_code['동'] != df_village_code['도시']]\n",
    "    df_village_code = df_village_code[~df_village_code['동'].str.endswith('구')]\n",
    "    \n",
    "    # get final village_list\n",
    "    village_list = df_village_code[\"동\"]\n",
    "    \n",
    "    # get province from user\n",
    "    province = getProvince(df_village_code)\n",
    "    \n",
    "    # filter village_list\n",
    "    if province == \"전지역\":\n",
    "        village_list = village_list\n",
    "    elif province == '(예시)삼성동':\n",
    "        village_list = ['삼성동']\n",
    "    else:\n",
    "        village_list = df_village_code[df_village_code[\"도시\"] == province][\"동\"]\n",
    "    \n",
    "    # ----------------\n",
    "    \n",
    "    # get contents urls\n",
    "    searching_url_list = getContentsUrls(village_list)\n",
    "    \n",
    "    # get informations\n",
    "    result = getResult(searching_url_list)\n",
    "    \n",
    "    # Create result DataFrame    \n",
    "    column_list = ['물건명', '매매가', '계약면적', '전용면적', '해당층', '총층', '방개수', '욕실수', '융자금', '입주가능일',\n",
    "                  '월관리비', '보증금', '월세', '특징', '중개업소', '공과금', '중개보수', '신축일', '물건url']\n",
    "\n",
    "    result = pd.DataFrame(result)\n",
    "    result.columns = column_list\n",
    "    \n",
    "    # Create into an Excel file\n",
    "    createExcelFile(result)\n"
   ]
  },
  {
   "cell_type": "code",
   "execution_count": 501,
   "metadata": {
    "scrolled": true
   },
   "outputs": [
    {
     "name": "stdout",
     "output_type": "stream",
     "text": [
      "원하는 도시의 번호를 선택해주세요\n",
      "0.전지역 | \n",
      "1.서울특별시 | 2.부산광역시 | 3.대구광역시 | \n",
      "4.인천광역시 | 5.광주광역시 | 6.대전광역시 | \n",
      "7.울산광역시 | 8.세종특별자치시 | 9.경기도 | \n",
      "10.강원도 | 11.충청북도 | 12.충청남도 | \n",
      "13.전라북도 | 14.전라남도 | 15.경상북도 | \n",
      "16.경상남도 | 17.제주특별자치도 | 18.예시(삼성동)18\n"
     ]
    },
    {
     "name": "stderr",
     "output_type": "stream",
     "text": [
      "100%|██████████| 71/71 [04:34<00:00,  3.87s/it]\n"
     ]
    }
   ],
   "source": [
    "if __name__ == \"__main__\":\n",
    "    main()"
   ]
  }
 ],
 "metadata": {
  "kernelspec": {
   "display_name": "Python 3",
   "language": "python",
   "name": "python3"
  },
  "language_info": {
   "codemirror_mode": {
    "name": "ipython",
    "version": 3
   },
   "file_extension": ".py",
   "mimetype": "text/x-python",
   "name": "python",
   "nbconvert_exporter": "python",
   "pygments_lexer": "ipython3",
   "version": "3.6.3"
  }
 },
 "nbformat": 4,
 "nbformat_minor": 2
}
