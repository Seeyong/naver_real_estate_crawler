{
 "cells": [
  {
   "cell_type": "code",
   "execution_count": 11,
   "metadata": {},
   "outputs": [
    {
     "data": {
      "text/plain": [
       "'\\nurl 가져올 때 페이징 기능 -> selenium\\nmultiprocessing\\n기능별 함수화 -> def\\n도시별 검색 기능 -> 도/시 번호로(전체 검색 포함)\\nDataFrame으로 변환하기\\nexcel file 형태로 내보내기\\n'"
      ]
     },
     "execution_count": 11,
     "metadata": {},
     "output_type": "execute_result"
    }
   ],
   "source": [
    "'''\n",
    "multiprocessing\n",
    "DataFrame으로 변환하기\n",
    "excel file 형태로 내보내기\n",
    "ban 방지 처리\n",
    "'''"
   ]
  },
  {
   "cell_type": "code",
   "execution_count": 12,
   "metadata": {
    "collapsed": true
   },
   "outputs": [],
   "source": [
    "crawling_list = ['물건명', '분양가', '매매가', '소유자', '계약면적', '전용면적', '융자금', '특징', '중개업소',\n",
    "                 '월관리비', '방수', '욕실수', '입주가능일', '신축일', '보증금', '월세', '중개보수', '공과금', '물건url']"
   ]
  },
  {
   "cell_type": "code",
   "execution_count": 13,
   "metadata": {},
   "outputs": [
    {
     "data": {
      "text/plain": [
       "'\\n오피스텔 : rletTypeCd=A02\\n매매 : tradeTypeCd=A1\\nHighest Year of School Completed : hscpTypeCd=A02\\n법정동 코드 API http://juso.seoul.go.kr/openapi/helps/SearchApi_jibun.aspx\\nhttp://www.code.go.kr/\\nhttps://financedata.github.io/posts/korea-area-code.html\\n'"
      ]
     },
     "execution_count": 13,
     "metadata": {},
     "output_type": "execute_result"
    }
   ],
   "source": [
    "'''\n",
    "오피스텔 : rletTypeCd=A02\n",
    "매매 : tradeTypeCd=A1\n",
    "Highest Year of School Completed : hscpTypeCd=A02\n",
    "법정동 코드 API http://juso.seoul.go.kr/openapi/helps/SearchApi_jibun.aspx\n",
    "http://www.code.go.kr/\n",
    "https://financedata.github.io/posts/korea-area-code.html\n",
    "'''"
   ]
  },
  {
   "cell_type": "markdown",
   "metadata": {},
   "source": [
    "# Import Libraries"
   ]
  },
  {
   "cell_type": "code",
   "execution_count": 14,
   "metadata": {
    "collapsed": true
   },
   "outputs": [],
   "source": [
    "from urllib import request as rq\n",
    "from bs4 import BeautifulSoup as bs\n",
    "from datetime import datetime\n",
    "import pandas as pd\n",
    "from tqdm import tqdm"
   ]
  },
  {
   "cell_type": "markdown",
   "metadata": {},
   "source": [
    "# Get province from user"
   ]
  },
  {
   "cell_type": "code",
   "execution_count": 112,
   "metadata": {},
   "outputs": [],
   "source": [
    "def getProvince(df_village_code):\n",
    "    city_number = \"0.전지역 | \\n\"\n",
    "    city_dict = {0: '전지역'}\n",
    "    city_list = list(df_village_code[\"도시\"].unique())\n",
    "\n",
    "    for number, city in enumerate(city_list):\n",
    "        if (number+1) % 3 == 0:\n",
    "            city_number += str(number+1) + '.' + city + ' | \\n'\n",
    "        else:\n",
    "            city_number += str(number+1) + '.' + city + ' | '\n",
    "\n",
    "        city_dict[number+1] = city\n",
    "        \n",
    "    while True:\n",
    "        try:\n",
    "            province_num = int(input(\"원하는 도시의 번호를 선택해주세요\\n\" + city_number))\n",
    "            province = city_dict[province_num]\n",
    "        except ValueError as e:\n",
    "            print(\"숫자로 입력해주세요.\")\n",
    "            continue\n",
    "        except KeyError as k:\n",
    "            print(\"0 ~ 15 사이의 숫자로 입력해주세요.\")\n",
    "            continue\n",
    "        break\n",
    "            \n",
    "    return province"
   ]
  },
  {
   "cell_type": "markdown",
   "metadata": {},
   "source": [
    "# Get ```village_code``` "
   ]
  },
  {
   "cell_type": "code",
   "execution_count": 15,
   "metadata": {},
   "outputs": [
    {
     "name": "stdout",
     "output_type": "stream",
     "text": [
      "(20544, 3)\n"
     ]
    }
   ],
   "source": [
    "df_village_code = pd.read_csv('https://goo.gl/tM6r3v', sep='\\t', dtype={'법정동코드':str})\n",
    "df_village_code = df_village_code[df_village_code[\"폐지여부\"] == \"존재\"]\n",
    "print(df_village_code.shape)"
   ]
  },
  {
   "cell_type": "code",
   "execution_count": 16,
   "metadata": {},
   "outputs": [
    {
     "data": {
      "text/plain": [
       "['서울특별시',\n",
       " '종로구',\n",
       " '청운동',\n",
       " '신교동',\n",
       " '궁정동',\n",
       " '효자동',\n",
       " '창성동',\n",
       " '통의동',\n",
       " '적선동',\n",
       " '통인동',\n",
       " '누상동',\n",
       " '누하동',\n",
       " '옥인동',\n",
       " '체부동',\n",
       " '필운동',\n",
       " '내자동',\n",
       " '사직동',\n",
       " '도렴동',\n",
       " '당주동',\n",
       " '내수동']"
      ]
     },
     "execution_count": 16,
     "metadata": {},
     "output_type": "execute_result"
    }
   ],
   "source": [
    "# 동 list\n",
    "village_lists = list(df_village_code['법정동명'].str.split(' '))\n",
    "village_list = [x[-1] for x in village_lists]\n",
    "\n",
    "village_list[:20]"
   ]
  },
  {
   "cell_type": "code",
   "execution_count": 17,
   "metadata": {
    "scrolled": false
   },
   "outputs": [
    {
     "data": {
      "text/plain": [
       "['서울특별시',\n",
       " '서울특별시',\n",
       " '서울특별시',\n",
       " '서울특별시',\n",
       " '서울특별시',\n",
       " '서울특별시',\n",
       " '서울특별시',\n",
       " '서울특별시',\n",
       " '서울특별시',\n",
       " '서울특별시',\n",
       " '서울특별시',\n",
       " '서울특별시',\n",
       " '서울특별시',\n",
       " '서울특별시',\n",
       " '서울특별시',\n",
       " '서울특별시',\n",
       " '서울특별시',\n",
       " '서울특별시',\n",
       " '서울특별시',\n",
       " '서울특별시']"
      ]
     },
     "execution_count": 17,
     "metadata": {},
     "output_type": "execute_result"
    }
   ],
   "source": [
    "# 도시 list\n",
    "city_list = [x[0] for x in village_lists]\n",
    "city_list[:20]"
   ]
  },
  {
   "cell_type": "code",
   "execution_count": 18,
   "metadata": {
    "scrolled": true
   },
   "outputs": [
    {
     "data": {
      "text/html": [
       "<div>\n",
       "<style scoped>\n",
       "    .dataframe tbody tr th:only-of-type {\n",
       "        vertical-align: middle;\n",
       "    }\n",
       "\n",
       "    .dataframe tbody tr th {\n",
       "        vertical-align: top;\n",
       "    }\n",
       "\n",
       "    .dataframe thead th {\n",
       "        text-align: right;\n",
       "    }\n",
       "</style>\n",
       "<table border=\"1\" class=\"dataframe\">\n",
       "  <thead>\n",
       "    <tr style=\"text-align: right;\">\n",
       "      <th></th>\n",
       "      <th>법정동코드</th>\n",
       "      <th>법정동명</th>\n",
       "      <th>폐지여부</th>\n",
       "      <th>도시</th>\n",
       "      <th>동</th>\n",
       "    </tr>\n",
       "  </thead>\n",
       "  <tbody>\n",
       "    <tr>\n",
       "      <th>2</th>\n",
       "      <td>1111010100</td>\n",
       "      <td>서울특별시 종로구 청운동</td>\n",
       "      <td>존재</td>\n",
       "      <td>서울특별시</td>\n",
       "      <td>청운동</td>\n",
       "    </tr>\n",
       "    <tr>\n",
       "      <th>3</th>\n",
       "      <td>1111010200</td>\n",
       "      <td>서울특별시 종로구 신교동</td>\n",
       "      <td>존재</td>\n",
       "      <td>서울특별시</td>\n",
       "      <td>신교동</td>\n",
       "    </tr>\n",
       "    <tr>\n",
       "      <th>4</th>\n",
       "      <td>1111010300</td>\n",
       "      <td>서울특별시 종로구 궁정동</td>\n",
       "      <td>존재</td>\n",
       "      <td>서울특별시</td>\n",
       "      <td>궁정동</td>\n",
       "    </tr>\n",
       "    <tr>\n",
       "      <th>5</th>\n",
       "      <td>1111010400</td>\n",
       "      <td>서울특별시 종로구 효자동</td>\n",
       "      <td>존재</td>\n",
       "      <td>서울특별시</td>\n",
       "      <td>효자동</td>\n",
       "    </tr>\n",
       "    <tr>\n",
       "      <th>6</th>\n",
       "      <td>1111010500</td>\n",
       "      <td>서울특별시 종로구 창성동</td>\n",
       "      <td>존재</td>\n",
       "      <td>서울특별시</td>\n",
       "      <td>창성동</td>\n",
       "    </tr>\n",
       "  </tbody>\n",
       "</table>\n",
       "</div>"
      ],
      "text/plain": [
       "        법정동코드           법정동명 폐지여부     도시    동\n",
       "2  1111010100  서울특별시 종로구 청운동   존재  서울특별시  청운동\n",
       "3  1111010200  서울특별시 종로구 신교동   존재  서울특별시  신교동\n",
       "4  1111010300  서울특별시 종로구 궁정동   존재  서울특별시  궁정동\n",
       "5  1111010400  서울특별시 종로구 효자동   존재  서울특별시  효자동\n",
       "6  1111010500  서울특별시 종로구 창성동   존재  서울특별시  창성동"
      ]
     },
     "execution_count": 18,
     "metadata": {},
     "output_type": "execute_result"
    }
   ],
   "source": [
    "df_village_code[\"도시\"] = city_list\n",
    "df_village_code[\"동\"] = village_list\n",
    "df_village_code = df_village_code[df_village_code['동'] != df_village_code['도시']]\n",
    "df_village_code = df_village_code[~df_village_code['동'].str.endswith('구')]\n",
    "df_village_code.head()"
   ]
  },
  {
   "cell_type": "code",
   "execution_count": 19,
   "metadata": {},
   "outputs": [
    {
     "data": {
      "text/plain": [
       "'1168010300'"
      ]
     },
     "execution_count": 19,
     "metadata": {},
     "output_type": "execute_result"
    }
   ],
   "source": [
    "df_village_code[df_village_code[\"동\"] == \"개포동\"]['법정동코드'].values[0]"
   ]
  },
  {
   "cell_type": "code",
   "execution_count": 86,
   "metadata": {},
   "outputs": [
    {
     "name": "stdout",
     "output_type": "stream",
     "text": [
      "0.전지역 | \n",
      "1.서울특별시 | 2.부산광역시 | 3.대구광역시 | \n",
      "4.인천광역시 | 5.광주광역시 | 6.대전광역시 | \n",
      "7.울산광역시 | 8.세종특별자치시 | 9.경기도 | \n",
      "10.강원도 | 11.충청북도 | 12.충청남도 | \n",
      "13.전라북도 | 14.전라남도 | 15.경상북도 | \n",
      "16.경상남도 | 17.제주특별자치도 | \n"
     ]
    },
    {
     "data": {
      "text/plain": [
       "{0: '전지역',\n",
       " 1: '서울특별시',\n",
       " 2: '부산광역시',\n",
       " 3: '대구광역시',\n",
       " 4: '인천광역시',\n",
       " 5: '광주광역시',\n",
       " 6: '대전광역시',\n",
       " 7: '울산광역시',\n",
       " 8: '세종특별자치시',\n",
       " 9: '경기도',\n",
       " 10: '강원도',\n",
       " 11: '충청북도',\n",
       " 12: '충청남도',\n",
       " 13: '전라북도',\n",
       " 14: '전라남도',\n",
       " 15: '경상북도',\n",
       " 16: '경상남도',\n",
       " 17: '제주특별자치도'}"
      ]
     },
     "execution_count": 86,
     "metadata": {},
     "output_type": "execute_result"
    }
   ],
   "source": [
    "city_number = \"0.전지역 | \\n\"\n",
    "city_dict = {0: '전지역'}\n",
    "city_list = list(df_village_code[\"도시\"].unique())\n",
    "\n",
    "for number, city in enumerate(city_list):\n",
    "    if (number+1) % 3 == 0:\n",
    "        city_number += str(number+1) + '.' + city + ' | \\n'\n",
    "    else:\n",
    "        city_number += str(number+1) + '.' + city + ' | '\n",
    "    \n",
    "    city_dict[number+1] = city\n",
    "    \n",
    "print(city_number)\n",
    "city_dict"
   ]
  },
  {
   "cell_type": "code",
   "execution_count": 24,
   "metadata": {},
   "outputs": [
    {
     "data": {
      "text/plain": [
       "2    청운동\n",
       "3    신교동\n",
       "4    궁정동\n",
       "5    효자동\n",
       "6    창성동\n",
       "Name: 동, dtype: object"
      ]
     },
     "execution_count": 24,
     "metadata": {},
     "output_type": "execute_result"
    }
   ],
   "source": [
    "village_list = df_village_code[df_village_code[\"도시\"]==\"서울특별시\"][\"동\"]\n",
    "village_list.head()"
   ]
  },
  {
   "cell_type": "markdown",
   "metadata": {},
   "source": [
    "# Get ```contents_urls```"
   ]
  },
  {
   "cell_type": "code",
   "execution_count": 43,
   "metadata": {
    "scrolled": true
   },
   "outputs": [],
   "source": [
    "def getContentsUrls(village_list):\n",
    "    root_url = \"https://land.naver.com/\"\n",
    "    searching_url_list = []\n",
    "    max_page = 20\n",
    "    \n",
    "    for village in tqdm(village_list[:20]):\n",
    "        code = df_village_code[df_village_code[\"동\"] == village]['법정동코드'].values[0]\n",
    "        for page_number in range(1, max_page+1):\n",
    "            basic_url = 'https://land.naver.com/article/articleList.nhn?rletTypeCd=A02&tradeTypeCd=A1&hscpTypeCd=A02&cortarNo={code}&articleOrderCode=&siteOrderCode=&cpId=&mapX=&mapY=&mapLevel=&minPrc=&maxPrc=&minWrrnt=&maxWrrnt=&minLease=&maxLease=&minSpc=&maxSpc=&subDist=&mviDate=&hsehCnt=&rltrId=&mnex=&mHscpNo=&mPtpRange=&mnexOrder=&location=1924&ptpNo=&bssYm=&schlCd=&cmplYn=&page={page_number}#_content_list_target'.format(code=code, page_number=page_number)\n",
    "            basic_html = rq.urlopen(basic_url).read()\n",
    "            basic_soup = bs(basic_html, \"html.parser\")\n",
    "            basic_elems = basic_soup.find_all(\"span\", {\"class\":\"btn_naverlink\"})\n",
    "\n",
    "            if basic_elems == []:\n",
    "                break\n",
    "\n",
    "            else:\n",
    "                for i in range(len(basic_elems)):\n",
    "                    estate_url = root_url + basic_elems[i].find(\"a\").attrs[\"href\"]\n",
    "                    searching_url_list.append(estate_url)\n",
    "                    \n",
    "    return searching_url_list"
   ]
  },
  {
   "cell_type": "code",
   "execution_count": 50,
   "metadata": {},
   "outputs": [],
   "source": [
    "def getContentsTitle(searching_soup):\n",
    "        # title\n",
    "        try:\n",
    "            title_elem = searching_soup.find(\"h2\", {\"class\":\"t_adr ellipsis\"})\n",
    "            title = title_elem.text\n",
    "        except ValueError as e:\n",
    "            title = \"-\"\n",
    "        finally:\n",
    "            return title"
   ]
  },
  {
   "cell_type": "code",
   "execution_count": 51,
   "metadata": {},
   "outputs": [],
   "source": [
    "def getContentsPrice(searching_soup):\n",
    "        # get price\n",
    "        try:\n",
    "            rate_basic = searching_soup.find_all(\"p\", {\"class\":\"rate_info\"})\n",
    "            price = rate_basic[1].find_all(\"span\")[0].text\n",
    "            price = int(price.split(\"만\")[0].replace(\",\",\"\"))\n",
    "        except ValueError as e:\n",
    "            price = \"-\"\n",
    "        finally:\n",
    "            return price"
   ]
  },
  {
   "cell_type": "code",
   "execution_count": 54,
   "metadata": {},
   "outputs": [],
   "source": [
    "def getContractArea(searching_soup):\n",
    "    # get contract area\n",
    "    try:\n",
    "        rate_basic = searching_soup.find_all(\"p\", {\"class\":\"rate_info\"})\n",
    "        areas = \"\"\n",
    "        area = rate_basic[0].find_all(\"span\")\n",
    "        for i in range(len(area)):\n",
    "            areas += area[i].text\n",
    "\n",
    "        areas_list = areas.split('/')\n",
    "        contract_area = float(areas_list[0])\n",
    "    except ValueError as e:\n",
    "            contract_area = \"-\"\n",
    "    finally:\n",
    "        return contract_area"
   ]
  },
  {
   "cell_type": "code",
   "execution_count": 55,
   "metadata": {
    "collapsed": true
   },
   "outputs": [],
   "source": [
    "def getExclusiveArea(searching_soup):\n",
    "    # get exclusive area\n",
    "    try:\n",
    "        rate_basic = searching_soup.find_all(\"p\", {\"class\":\"rate_info\"})\n",
    "        areas = \"\"\n",
    "        area = rate_basic[0].find_all(\"span\")\n",
    "        for i in range(len(area)):\n",
    "            areas += area[i].text\n",
    "\n",
    "        areas_list = areas.split('/')\n",
    "        exclusive_area = float(areas_list[1].split('㎡')[0])\n",
    "    except ValueError as e:\n",
    "            exclusive_area = \"-\"\n",
    "    finally:\n",
    "        return exclusive_area"
   ]
  },
  {
   "cell_type": "code",
   "execution_count": 58,
   "metadata": {
    "collapsed": true
   },
   "outputs": [],
   "source": [
    "def getSpecificFloor(searching_soup):\n",
    "    # specific floor\n",
    "    try:\n",
    "        summary_basic = searching_soup.find(\"div\", {\"class\":\"view_info\"}).find_all(\"div\", {\"class\":\"inner\"})\n",
    "        floors = summary_basic[1].text.split(\"/\")\n",
    "        specific_floor = int(floors[0])\n",
    "    except ValueError as e:\n",
    "        specific_floor = \"-\"\n",
    "    finally:\n",
    "        return specific_floor"
   ]
  },
  {
   "cell_type": "code",
   "execution_count": 59,
   "metadata": {},
   "outputs": [],
   "source": [
    "def getTotalFloor(searching_soup):\n",
    "    # total floor\n",
    "    try:\n",
    "        summary_basic = searching_soup.find(\"div\", {\"class\":\"view_info\"}).find_all(\"div\", {\"class\":\"inner\"})\n",
    "        floors = summary_basic[1].text.split(\"/\")\n",
    "        total_floor = int(floors[1].split(\"층\")[0])\n",
    "    except ValueError as e:\n",
    "        total_floor = \"-\"\n",
    "    finally:\n",
    "        return total_floor"
   ]
  },
  {
   "cell_type": "code",
   "execution_count": 61,
   "metadata": {
    "collapsed": true
   },
   "outputs": [],
   "source": [
    "def getRooms(searching_soup):\n",
    "    # rooms\n",
    "    try:\n",
    "        summary_basic = searching_soup.find(\"div\", {\"class\":\"view_info\"}).find_all(\"div\", {\"class\":\"inner\"})\n",
    "        room_and_bath = summary_basic[3].text.split(\"/\")\n",
    "        rooms = int(room_and_bath[0])\n",
    "    except ValueError as e:\n",
    "        rooms = \"-\"\n",
    "    finally:\n",
    "        return rooms"
   ]
  },
  {
   "cell_type": "code",
   "execution_count": 62,
   "metadata": {},
   "outputs": [],
   "source": [
    "def getBaths(searching_soup):\n",
    "    # baths\n",
    "    try:\n",
    "        summary_basic = searching_soup.find(\"div\", {\"class\":\"view_info\"}).find_all(\"div\", {\"class\":\"inner\"})\n",
    "        room_and_bath = summary_basic[3].text.split(\"/\")\n",
    "        baths = int(room_and_bath[1].split('개')[0])\n",
    "    except ValueError as e:\n",
    "        baths = \"-\"\n",
    "    finally:\n",
    "        return baths"
   ]
  },
  {
   "cell_type": "code",
   "execution_count": 63,
   "metadata": {},
   "outputs": [],
   "source": [
    "def getLoanAmount(searching_soup):\n",
    "    # loan amount\n",
    "    try:\n",
    "        summary_basic = searching_soup.find(\"div\", {\"class\":\"view_info\"}).find_all(\"div\", {\"class\":\"inner\"})\n",
    "        loan_amount = int(summary_basic[5].text.split(\"만\")[0])\n",
    "    except ValueError as e:\n",
    "        loan_amount = \"-\"\n",
    "    finally:\n",
    "        return loan_amount"
   ]
  },
  {
   "cell_type": "code",
   "execution_count": 64,
   "metadata": {},
   "outputs": [],
   "source": [
    "def getMoveable(searching_soup):\n",
    "    # moveable\n",
    "    try:\n",
    "        summary_basic = searching_soup.find(\"div\", {\"class\":\"view_info\"}).find_all(\"div\", {\"class\":\"inner\"})\n",
    "        moveable = summary_basic[7].text\n",
    "    except ValueError as e:\n",
    "        moveable = \"-\"\n",
    "    finally:\n",
    "        return moveable"
   ]
  },
  {
   "cell_type": "code",
   "execution_count": 65,
   "metadata": {},
   "outputs": [],
   "source": [
    "def getAdminCost(searching_soup):\n",
    "    # administration cost\n",
    "    try:\n",
    "        summary_basic = searching_soup.find(\"div\", {\"class\":\"view_info\"}).find_all(\"div\", {\"class\":\"inner\"})\n",
    "        administration_cost = int(summary_basic[9].text.split(\"원\")[0].strip().replace(\",\",\"\"))\n",
    "    except ValueError as e:\n",
    "        administration_cost = \"-\"\n",
    "    finally:\n",
    "        return administration_cost"
   ]
  },
  {
   "cell_type": "code",
   "execution_count": 67,
   "metadata": {
    "collapsed": true
   },
   "outputs": [],
   "source": [
    "def getDepositAmount(searching_soup):\n",
    "    # deposit amount\n",
    "    try:  \n",
    "        summary_basic = searching_soup.find(\"div\", {\"class\":\"view_info\"}).find_all(\"div\", {\"class\":\"inner\"})\n",
    "        deposit_and_rentfee = summary_basic[11].text.split(\"/\")  \n",
    "        deposit = int(deposit_and_rentfee[0].strip())\n",
    "    except ValueError as e:\n",
    "        deposit = \"-\"\n",
    "    finally:\n",
    "        return deposit"
   ]
  },
  {
   "cell_type": "code",
   "execution_count": 68,
   "metadata": {},
   "outputs": [],
   "source": [
    "def getRentFee(searching_soup):\n",
    "    # rent fee\n",
    "    try:\n",
    "        summary_basic = searching_soup.find(\"div\", {\"class\":\"view_info\"}).find_all(\"div\", {\"class\":\"inner\"})\n",
    "        deposit_and_rentfee = summary_basic[11].text.split(\"/\")\n",
    "        rent_fee = int(deposit_and_rentfee[1].split(\"만\")[0].strip())\n",
    "    except ValueError as e:\n",
    "        rent_fee = \"-\"\n",
    "    finally:\n",
    "        return rent_fee"
   ]
  },
  {
   "cell_type": "code",
   "execution_count": 69,
   "metadata": {},
   "outputs": [],
   "source": [
    "def getChar(searching_soup):\n",
    "    # characteristics\n",
    "    try:\n",
    "        summary_basic = searching_soup.find(\"div\", {\"class\":\"view_info\"}).find_all(\"div\", {\"class\":\"inner\"})\n",
    "        characteristics = summary_basic[13].text\n",
    "    except ValueError as e:\n",
    "        characteristics = \"-\"\n",
    "    finally:\n",
    "        return characteristics"
   ]
  },
  {
   "cell_type": "code",
   "execution_count": 70,
   "metadata": {},
   "outputs": [],
   "source": [
    "def getInterm(searching_soup):\n",
    "    # intermediary\n",
    "    try:\n",
    "        summary_basic = searching_soup.find(\"div\", {\"class\":\"view_info\"}).find_all(\"div\", {\"class\":\"inner\"})\n",
    "        intermediary = summary_basic[15].text\n",
    "    except ValueError as e:\n",
    "        intermediary = \"-\"\n",
    "    finally:\n",
    "        return intermediary"
   ]
  },
  {
   "cell_type": "code",
   "execution_count": 73,
   "metadata": {},
   "outputs": [],
   "source": [
    "def getUtilityBills(searching_soup):\n",
    "    # utility bills\n",
    "    try:\n",
    "        tax_soup = searching_soup.find_all('ul', {\"class\":\"lst_tax\"})[1]\n",
    "        replaceable_chr_list = ['\\\\', 'n', 't', ',', ' ', '약', '원']\n",
    "        utility_bills = tax_soup.find(\"strong\", {\"class\":\"highlight\"}).text\n",
    "\n",
    "        for i in replaceable_chr_list:\n",
    "\n",
    "            utility_bills = utility_bills.replace(i, '').strip()\n",
    "\n",
    "        utility_bills = int(utility_bills)\n",
    "\n",
    "    except ValueError as e:\n",
    "        utility_bills = \"-\"\n",
    "    \n",
    "    finally:\n",
    "        return utility_bills"
   ]
  },
  {
   "cell_type": "code",
   "execution_count": 74,
   "metadata": {},
   "outputs": [],
   "source": [
    "def getIntermPay(searching_soup):\n",
    "    # intermediate pay\n",
    "    try:\n",
    "        intermediate_soup = searching_soup.find_all('ul', {\"class\":\"lst_tax\"})[0]\n",
    "        intermediate_pay = int(intermediate_soup.find(\"strong\").text)\n",
    "    except ValueError as e:\n",
    "        intermediate_pay = \"-\"\n",
    "    finally:\n",
    "        return intermediate_pay"
   ]
  },
  {
   "cell_type": "code",
   "execution_count": 75,
   "metadata": {},
   "outputs": [],
   "source": [
    "def getCompletionDate(searching_soup):\n",
    "    # completion date\n",
    "    try:\n",
    "        completion_elem = searching_soup.find(\"div\", {\"class\":\"div_detail\"}).find_all(\"div\", {\"class\":\"inner\"})\n",
    "        completion_date = datetime.strptime(completion_elem[-1].text, '%Y.%m.')\n",
    "    except ValueError as e:\n",
    "        completion_date = \"-\"\n",
    "    finally:\n",
    "        return completion_date"
   ]
  },
  {
   "cell_type": "code",
   "execution_count": null,
   "metadata": {
    "collapsed": true
   },
   "outputs": [],
   "source": []
  },
  {
   "cell_type": "code",
   "execution_count": null,
   "metadata": {
    "collapsed": true
   },
   "outputs": [],
   "source": []
  },
  {
   "cell_type": "code",
   "execution_count": null,
   "metadata": {
    "collapsed": true
   },
   "outputs": [],
   "source": []
  },
  {
   "cell_type": "code",
   "execution_count": null,
   "metadata": {
    "collapsed": true
   },
   "outputs": [],
   "source": [
    "def main():\n",
    "    \n",
    "    # public village infos\n",
    "    df_village_code = pd.read_csv('https://goo.gl/tM6r3v', sep='\\t', dtype={'법정동코드':str})\n",
    "    df_village_code = df_village_code[df_village_code[\"폐지여부\"] == \"존재\"]\n",
    "    \n",
    "    # get 동 list\n",
    "    village_lists = list(df_village_code['법정동명'].str.split(' '))\n",
    "    village_list = [x[-1] for x in village_lists]\n",
    "    \n",
    "    # get 도시 list\n",
    "    city_list = [x[0] for x in village_lists]\n",
    "    \n",
    "    # create village_DataFrame\n",
    "    df_village_code[\"도시\"] = city_list\n",
    "    df_village_code[\"동\"] = village_list\n",
    "    df_village_code = df_village_code[df_village_code['동'] != df_village_code['도시']]\n",
    "    df_village_code = df_village_code[~df_village_code['동'].str.endswith('구')]\n",
    "    \n",
    "    # get final village_list\n",
    "    village_list = df_village_code[\"동\"]\n",
    "    \n",
    "    # get province from user\n",
    "    province = getProvince(df_village_code)\n",
    "    \n",
    "    # filter village_list\n",
    "    if province == \"전지역\":\n",
    "        village_list = village_list\n",
    "    else:\n",
    "        village_list = df_village_code[df_village_code[\"도시\"] == province][\"동\"]\n",
    "    \n",
    "    # ----------------\n",
    "    \n",
    "    # get contents urls\n",
    "    searching_url_list = getContentsUrls(village_list)\n",
    "    \n",
    "    # create null dict for DataFrame\n",
    "    \n",
    "    \n",
    "    # get informations\n",
    "    for url in searching_url_list:\n",
    "        searching_html = rq.urlopen(url).read()\n",
    "        searching_soup = bs(searching_html, \"html.parser\")\n",
    "\n",
    "        title = getContentsTitle(searching_soup)\n",
    "        price = getContentsPrice(searching_soup)\n",
    "        contract_area = getContractArea(searching_soup)\n",
    "        exclusive_area = getExclusiveArea(searching_soup)\n",
    "        specific_floor = getSpecificFloor(searching_soup)\n",
    "        total_floor = getTotalFloor(searching_soup)\n",
    "        rooms = getRooms(searching_soup)\n",
    "        baths = getBaths(searching_soup)\n",
    "        loan_amount = getLoanAmount(searching_soup)\n",
    "        moveable = getMoveable(searching_soup)\n",
    "        administration_cost = getAdminCost(searching_soup)\n",
    "        deposit = getDepositAmount(searching_soup)\n",
    "        rent_fee = getRentFee(searching_soup)\n",
    "        characteristics = getChar(searching_soup)\n",
    "        intermediary = getInterm(searching_soup)\n",
    "        utility_bills = getUtilityBills(searching_soup)\n",
    "        intermediate_pay = getIntermPay(searching_soup)\n",
    "        completion_date = getCompletionDate(searching_soup)\n",
    "        \n",
    "        "
   ]
  },
  {
   "cell_type": "code",
   "execution_count": null,
   "metadata": {
    "collapsed": true
   },
   "outputs": [],
   "source": []
  },
  {
   "cell_type": "code",
   "execution_count": null,
   "metadata": {
    "collapsed": true
   },
   "outputs": [],
   "source": []
  },
  {
   "cell_type": "code",
   "execution_count": null,
   "metadata": {
    "collapsed": true
   },
   "outputs": [],
   "source": []
  },
  {
   "cell_type": "code",
   "execution_count": null,
   "metadata": {
    "collapsed": true
   },
   "outputs": [],
   "source": []
  },
  {
   "cell_type": "code",
   "execution_count": null,
   "metadata": {
    "collapsed": true
   },
   "outputs": [],
   "source": []
  },
  {
   "cell_type": "code",
   "execution_count": null,
   "metadata": {
    "collapsed": true
   },
   "outputs": [],
   "source": []
  },
  {
   "cell_type": "code",
   "execution_count": null,
   "metadata": {
    "collapsed": true
   },
   "outputs": [],
   "source": []
  },
  {
   "cell_type": "code",
   "execution_count": null,
   "metadata": {
    "collapsed": true
   },
   "outputs": [],
   "source": [
    "if __name__ == \"__main__\":\n",
    "    main()"
   ]
  }
 ],
 "metadata": {
  "kernelspec": {
   "display_name": "Python 3",
   "language": "python",
   "name": "python3"
  },
  "language_info": {
   "codemirror_mode": {
    "name": "ipython",
    "version": 3
   },
   "file_extension": ".py",
   "mimetype": "text/x-python",
   "name": "python",
   "nbconvert_exporter": "python",
   "pygments_lexer": "ipython3",
   "version": "3.6.3"
  }
 },
 "nbformat": 4,
 "nbformat_minor": 2
}
