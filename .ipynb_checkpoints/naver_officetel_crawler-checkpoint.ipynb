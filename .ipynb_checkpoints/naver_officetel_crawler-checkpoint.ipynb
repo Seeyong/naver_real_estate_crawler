{
 "cells": [
  {
   "cell_type": "code",
   "execution_count": 4,
   "metadata": {
    "scrolled": true
   },
   "outputs": [
    {
     "data": {
      "text/plain": [
       "'\\n총세대수\\n총주차대수(세대당)\\n실거래가\\n\\n2018. 10. 19 Developed by Seeyong\\nNaverOfficetel Crawler\\nV 1.0.0\\n'"
      ]
     },
     "execution_count": 4,
     "metadata": {},
     "output_type": "execute_result"
    }
   ],
   "source": [
    "'''\n",
    "실거래가\n",
    "['강서구', '영등포구', '구로구', '금천구', '관악구', '마포구', '동대문구', '분당구']\n",
    "\n",
    "2018. 10. 22 Developed by Seeyong\n",
    "NaverOfficetel Crawler\n",
    "V 1.0.0\n",
    "'''"
   ]
  },
  {
   "cell_type": "code",
   "execution_count": 2,
   "metadata": {},
   "outputs": [
    {
     "data": {
      "text/plain": [
       "'\\n오피스텔 : rletTypeCd=A02\\n매매 : tradeTypeCd=A1\\nHighest Year of School Completed : hscpTypeCd=A02\\n법정동 코드 API http://juso.seoul.go.kr/openapi/helps/SearchApi_jibun.aspx\\nhttp://www.code.go.kr/\\nhttps://financedata.github.io/posts/korea-area-code.html\\n'"
      ]
     },
     "execution_count": 2,
     "metadata": {},
     "output_type": "execute_result"
    }
   ],
   "source": [
    "'''\n",
    "오피스텔 : rletTypeCd=A02\n",
    "매매 : tradeTypeCd=A1\n",
    "Highest Year of School Completed : hscpTypeCd=A02\n",
    "법정동 코드 API http://juso.seoul.go.kr/openapi/helps/SearchApi_jibun.aspx\n",
    "http://www.code.go.kr/\n",
    "'''"
   ]
  },
  {
   "cell_type": "markdown",
   "metadata": {},
   "source": [
    "# Import Libraries"
   ]
  },
  {
   "cell_type": "code",
   "execution_count": 62,
   "metadata": {
    "collapsed": true
   },
   "outputs": [],
   "source": [
    "from urllib import request as rq\n",
    "from bs4 import BeautifulSoup as bs\n",
    "from datetime import datetime\n",
    "import pandas as pd\n",
    "from tqdm import tqdm\n",
    "from time import sleep\n",
    "import random"
   ]
  },
  {
   "cell_type": "markdown",
   "metadata": {},
   "source": [
    "# Get city/district/village list"
   ]
  },
  {
   "cell_type": "code",
   "execution_count": 1,
   "metadata": {
    "collapsed": true
   },
   "outputs": [],
   "source": [
    "def getRegionList(df_village_code):\n",
    "    # get 동 list\n",
    "    village_lists = list(df_village_code['법정동명'].str.split(' '))\n",
    "    village_list = [x[-1] for x in village_lists]\n",
    "\n",
    "    # get 도시 list\n",
    "    city_list = [x[0] for x in village_lists]\n",
    "\n",
    "    # get 구 list : 제주특별자치도의 경우 제주시&서귀포시\n",
    "    district_list = []\n",
    "    for village in village_lists:\n",
    "        if len(village) > 1:\n",
    "            district_list.append(village[1])\n",
    "        else:\n",
    "            district_list.append(village[0])\n",
    "            \n",
    "    return city_list, district_list, village_list"
   ]
  },
  {
   "cell_type": "markdown",
   "metadata": {},
   "source": [
    "# Get province from user"
   ]
  },
  {
   "cell_type": "code",
   "execution_count": 91,
   "metadata": {},
   "outputs": [],
   "source": [
    "def getProvince(df_village_code):\n",
    "    def getCityNumber(df_village_code):\n",
    "        # city selection process\n",
    "        city_number = \"0.EXIT |\\n\"\n",
    "        city_dict = {}\n",
    "        city_list = list(df_village_code[\"도시\"].unique())\n",
    "\n",
    "        for number, city in enumerate(city_list):\n",
    "            if (number + 1) % 3 == 0:\n",
    "                city_number += str(number + 1) + '.' + city + ' | \\n'\n",
    "            else:\n",
    "                city_number += str(number + 1) + '.' + city + ' | '\n",
    "\n",
    "            city_dict[number + 1] = city\n",
    "\n",
    "        while True:\n",
    "            try:\n",
    "                province_num = int(input(\"원하는 도시의 번호를 선택해주세요\\n\" + city_number))\n",
    "\n",
    "                if province_num == 0:\n",
    "                    print(\"프로그램이 종료되었습니다.\")\n",
    "                    raise SystemExit\n",
    "                else:\n",
    "                    province = city_dict[province_num]\n",
    "                    return province\n",
    "\n",
    "            except ValueError as e:\n",
    "                print(\"숫자로 입력해주세요.\")\n",
    "                continue\n",
    "            except KeyError as k:\n",
    "                print(\"0 ~ %d 사이의 숫자로 입력해주세요.\"%(len(city_dict)-1))\n",
    "                continue\n",
    "            break\n",
    "\n",
    "        return province\n",
    "\n",
    "    def getDistNumber(df_village_code, province):\n",
    "        # district selection process\n",
    "        district_number = \"0.도시 다시 선택하기 |\\n\"\n",
    "        district_dict = {}\n",
    "        district_list = list(df_village_code[df_village_code['도시'] == province][\"구/군\"].unique())\n",
    "        district_list\n",
    "\n",
    "        for number, district in enumerate(district_list):\n",
    "            if (number + 1) % 3 == 0:\n",
    "                district_number += str(number + 1) + '.' + district + ' | \\n'\n",
    "            else:\n",
    "                district_number += str(number + 1) + '.' + district + ' | '\n",
    "\n",
    "            district_dict[number + 1] = district\n",
    "\n",
    "        while True:\n",
    "            try:\n",
    "                district_num = int(input(\"원하는 군/구의 번호를 선택해주세요\\n\" + district_number))\n",
    "\n",
    "                if district_num == 0:\n",
    "                    province = getCityNumber(df_village_code)\n",
    "                    district = getDistNumber(df_village_code, province)\n",
    "                    return district, province\n",
    "                else:\n",
    "                    district = district_dict[district_num]\n",
    "            except ValueError as e:\n",
    "                print(\"숫자로 입력해주세요.\")\n",
    "                continue\n",
    "            except KeyError as k:\n",
    "                print(\"0 ~ %d 사이의 숫자로 입력해주세요.\" % (len(district_dict) - 1))\n",
    "                continue\n",
    "            break\n",
    "\n",
    "        return district, province\n",
    "\n",
    "    def getVillageNumber(df_village_code, district, province):\n",
    "        # village selection process\n",
    "        village_number = \"0.구/군 다시 선택하기 |\\n\"\n",
    "        village_dict = {}\n",
    "        village_list = list(df_village_code[df_village_code['구/군'] == district][\"동\"].unique())\n",
    "        village_list\n",
    "\n",
    "        for number, village in enumerate(village_list):\n",
    "            if (number + 1) % 3 == 0:\n",
    "                village_number += str(number + 1) + '.' + village + ' | \\n'\n",
    "            else:\n",
    "                village_number += str(number + 1) + '.' + village + ' | '\n",
    "\n",
    "            village_dict[number + 1] = village\n",
    "\n",
    "        while True:\n",
    "            try:\n",
    "                village_num = int(input(\"원하는 동의 번호를 선택해주세요\\n\" + village_number))\n",
    "                if village_num == 0:\n",
    "                    district, province = getDistNumber(df_village_code, province)\n",
    "                    village = getVillageNumber(df_village_code, district, province)\n",
    "                    return village\n",
    "                else:\n",
    "                    village = village_dict[village_num]\n",
    "            except ValueError as e:\n",
    "                print(\"숫자로 입력해주세요.\")\n",
    "                continue\n",
    "            except KeyError as k:\n",
    "                print(\"1 ~ %d 사이의 숫자로 입력해주세요.\" % (len(village_dict) - 1))\n",
    "                continue\n",
    "            break\n",
    "\n",
    "        return village\n",
    "\n",
    "    province = getCityNumber(df_village_code)\n",
    "    district, province = getDistNumber(df_village_code, province)\n",
    "    village = getVillageNumber(df_village_code, district, province)\n",
    "\n",
    "    return village"
   ]
  },
  {
   "cell_type": "markdown",
   "metadata": {},
   "source": [
    "# Get ```contents_urls```"
   ]
  },
  {
   "cell_type": "code",
   "execution_count": 17,
   "metadata": {
    "collapsed": true,
    "scrolled": true
   },
   "outputs": [],
   "source": [
    "def getContentsUrls(village, df_village_code):\n",
    "    root_url = \"https://land.naver.com/\"\n",
    "    searching_url_dict = {}\n",
    "    max_page = 20\n",
    "    \n",
    "    city = df_village_code[df_village_code[\"동\"] == village]['도시'].values[0]\n",
    "    district = df_village_code[df_village_code[\"동\"] == village]['구/군'].values[0]\n",
    "    code = df_village_code[df_village_code[\"동\"] == village]['법정동코드'].values[0]\n",
    "    for page_number in range(1, max_page+1):\n",
    "        basic_url = 'https://land.naver.com/article/articleList.nhn?rletTypeCd=A02&tradeTypeCd=A1&hscpTypeCd=A02&cortarNo={code}&articleOrderCode=&siteOrderCode=&cpId=&mapX=&mapY=&mapLevel=&minPrc=&maxPrc=&minWrrnt=&maxWrrnt=&minLease=&maxLease=&minSpc=&maxSpc=&subDist=&mviDate=&hsehCnt=&rltrId=&mnex=&mHscpNo=&mPtpRange=&mnexOrder=&location=1924&ptpNo=&bssYm=&schlCd=&cmplYn=&page={page_number}#_content_list_target'.format(code=code, page_number=page_number)\n",
    "        basic_url = rq.Request(basic_url,\n",
    "                  headers={\n",
    "                      'User-Agent':'Mozilla/5.0 (Macintosh; Intel Mac OS X 10_14_0) AppleWebKit/537.36 (KHTML, like Gecko) Chrome/69.0.3497.100 Safari/537.36'\n",
    "                  })\n",
    "        basic_html = rq.urlopen(basic_url).read()\n",
    "        basic_soup = bs(basic_html, \"html.parser\")\n",
    "        basic_elems = basic_soup.find_all(\"span\", {\"class\":\"btn_naverlink\"})\n",
    "\n",
    "        # ban 방지용 : 페이지가 2의 배수일 때 쉼\n",
    "        if page_number%2 == 0:\n",
    "            sleeptime = random.randint(3,7)\n",
    "            sleep(sleeptime)\n",
    "\n",
    "        # 마지막 페이징에서 break\n",
    "        if basic_elems == []:\n",
    "            break\n",
    "\n",
    "        else:\n",
    "            for i in range(len(basic_elems)):\n",
    "                estate_url = root_url + basic_elems[i].find(\"a\").attrs[\"href\"]\n",
    "                searching_url_dict[estate_url] = [city, district, village]\n",
    "                    \n",
    "    return searching_url_dict"
   ]
  },
  {
   "cell_type": "markdown",
   "metadata": {},
   "source": [
    "# Get ```contents```"
   ]
  },
  {
   "cell_type": "code",
   "execution_count": 6,
   "metadata": {
    "collapsed": true
   },
   "outputs": [],
   "source": [
    "def getContentsTitle(searching_soup):\n",
    "    # title\n",
    "    try:\n",
    "        title_elem = searching_soup.find(\"h2\", {\"class\":\"t_adr\"})\n",
    "        title = title_elem.text\n",
    "    except (ValueError, AttributeError, IndexError) as e:\n",
    "        title = \"-\"\n",
    "    return title"
   ]
  },
  {
   "cell_type": "code",
   "execution_count": 7,
   "metadata": {
    "collapsed": true
   },
   "outputs": [],
   "source": [
    "def getContentsPrice(searching_soup):\n",
    "    # get price\n",
    "    try:\n",
    "        rate_basic = searching_soup.find_all(\"p\", {\"class\":\"rate_info\"})\n",
    "        price = rate_basic[1].find_all(\"span\")[0].text\n",
    "        price = int(price.split(\"만\")[0].replace(\",\",\"\"))\n",
    "    except (ValueError, AttributeError, IndexError) as e:\n",
    "        price = 0\n",
    "    return price"
   ]
  },
  {
   "cell_type": "code",
   "execution_count": 8,
   "metadata": {
    "collapsed": true
   },
   "outputs": [],
   "source": [
    "def getContractArea(searching_soup):\n",
    "    # get contract area\n",
    "    try:\n",
    "        rate_basic = searching_soup.find_all(\"p\", {\"class\":\"rate_info\"})\n",
    "        areas = \"\"\n",
    "        area = rate_basic[0].find_all(\"span\")\n",
    "        for i in range(len(area)):\n",
    "            areas += area[i].text\n",
    "\n",
    "        areas_list = areas.split('/')\n",
    "        contract_area = float(areas_list[0])\n",
    "    except (ValueError, AttributeError, IndexError) as e:\n",
    "            contract_area = 0\n",
    "    return contract_area"
   ]
  },
  {
   "cell_type": "code",
   "execution_count": 9,
   "metadata": {
    "collapsed": true
   },
   "outputs": [],
   "source": [
    "def getExclusiveArea(searching_soup):\n",
    "    # get exclusive area\n",
    "    try:\n",
    "        rate_basic = searching_soup.find_all(\"p\", {\"class\":\"rate_info\"})\n",
    "        areas = \"\"\n",
    "        area = rate_basic[0].find_all(\"span\")\n",
    "        for i in range(len(area)):\n",
    "            areas += area[i].text\n",
    "\n",
    "        areas_list = areas.split('/')\n",
    "        exclusive_area = float(areas_list[1].split('㎡')[0])\n",
    "    except (ValueError, AttributeError, IndexError) as e:\n",
    "            exclusive_area = 0\n",
    "    return exclusive_area"
   ]
  },
  {
   "cell_type": "code",
   "execution_count": 10,
   "metadata": {
    "collapsed": true
   },
   "outputs": [],
   "source": [
    "def getSpecificFloor(searching_soup):\n",
    "    # specific floor\n",
    "    try:\n",
    "        summary_basic = searching_soup.find(\"div\", {\"class\":\"view_info\"}).find_all(\"div\", {\"class\":\"inner\"})\n",
    "        floors = summary_basic[1].text.split(\"/\")\n",
    "        specific_floor = int(floors[0])\n",
    "    except (ValueError, AttributeError, IndexError) as e:\n",
    "        specific_floor = 0\n",
    "    return specific_floor"
   ]
  },
  {
   "cell_type": "code",
   "execution_count": 11,
   "metadata": {
    "collapsed": true
   },
   "outputs": [],
   "source": [
    "def getTotalFloor(searching_soup):\n",
    "    # total floor\n",
    "    try:\n",
    "        summary_basic = searching_soup.find(\"div\", {\"class\":\"view_info\"}).find_all(\"div\", {\"class\":\"inner\"})\n",
    "        floors = summary_basic[1].text.split(\"/\")\n",
    "        total_floor = int(floors[1].split(\"층\")[0])\n",
    "    except (ValueError, AttributeError, IndexError) as e:\n",
    "        total_floor = 0\n",
    "    return total_floor"
   ]
  },
  {
   "cell_type": "code",
   "execution_count": 12,
   "metadata": {
    "collapsed": true
   },
   "outputs": [],
   "source": [
    "def getRooms(searching_soup):\n",
    "    # rooms\n",
    "    try:\n",
    "        summary_basic = searching_soup.find(\"div\", {\"class\":\"view_info\"}).find_all(\"div\", {\"class\":\"inner\"})\n",
    "        room_and_bath = summary_basic[3].text.split(\"/\")\n",
    "        rooms = int(room_and_bath[0])\n",
    "    except (ValueError, AttributeError, IndexError) as e:\n",
    "        rooms = 0\n",
    "    return rooms"
   ]
  },
  {
   "cell_type": "code",
   "execution_count": 13,
   "metadata": {
    "collapsed": true
   },
   "outputs": [],
   "source": [
    "def getBaths(searching_soup):\n",
    "    # baths\n",
    "    try:\n",
    "        summary_basic = searching_soup.find(\"div\", {\"class\":\"view_info\"}).find_all(\"div\", {\"class\":\"inner\"})\n",
    "        room_and_bath = summary_basic[3].text.split(\"/\")\n",
    "        baths = int(room_and_bath[1].split('개')[0])\n",
    "    except (ValueError, AttributeError, IndexError) as e:\n",
    "        baths = 0\n",
    "    return baths"
   ]
  },
  {
   "cell_type": "code",
   "execution_count": 14,
   "metadata": {
    "collapsed": true
   },
   "outputs": [],
   "source": [
    "def getLoanAmount(searching_soup):\n",
    "    # loan amount\n",
    "    try:\n",
    "        summary_basic = searching_soup.find(\"div\", {\"class\":\"view_info\"}).find_all(\"div\", {\"class\":\"inner\"})\n",
    "        loan_amount = int(summary_basic[5].text.split(\"만\")[0].replace(',',''))\n",
    "    except (ValueError, AttributeError, IndexError) as e:\n",
    "        loan_amount = 0\n",
    "    return loan_amount"
   ]
  },
  {
   "cell_type": "code",
   "execution_count": 15,
   "metadata": {
    "collapsed": true
   },
   "outputs": [],
   "source": [
    "def getMoveable(searching_soup):\n",
    "    # moveable\n",
    "    try:\n",
    "        summary_basic = searching_soup.find(\"div\", {\"class\":\"view_info\"}).find_all(\"div\", {\"class\":\"inner\"})\n",
    "        moveable = summary_basic[7].text\n",
    "    except (ValueError, AttributeError, IndexError) as e:\n",
    "        moveable = \"-\"\n",
    "    return moveable"
   ]
  },
  {
   "cell_type": "code",
   "execution_count": 16,
   "metadata": {
    "collapsed": true
   },
   "outputs": [],
   "source": [
    "def getAdminCost(searching_soup):\n",
    "    # administration cost\n",
    "    try:\n",
    "        summary_basic = searching_soup.find(\"div\", {\"class\":\"view_info\"}).find_all(\"div\", {\"class\":\"inner\"})\n",
    "        administration_cost = int(summary_basic[9].text.split(\"원\")[0].strip().replace(\",\",\"\"))\n",
    "    except (ValueError, AttributeError, IndexError) as e:\n",
    "        administration_cost = 0\n",
    "    return administration_cost"
   ]
  },
  {
   "cell_type": "code",
   "execution_count": 17,
   "metadata": {
    "collapsed": true
   },
   "outputs": [],
   "source": [
    "def getDepositAmount(searching_soup):\n",
    "    # deposit amount\n",
    "    try:  \n",
    "        summary_basic = searching_soup.find(\"div\", {\"class\":\"view_info\"}).find_all(\"div\", {\"class\":\"inner\"})\n",
    "        deposit_and_rentfee = summary_basic[11].text.split(\"/\")  \n",
    "        deposit = int(deposit_and_rentfee[0].replace(',','').strip())\n",
    "    except (ValueError, AttributeError, IndexError) as e:\n",
    "        deposit = 0\n",
    "    return deposit"
   ]
  },
  {
   "cell_type": "code",
   "execution_count": 18,
   "metadata": {
    "collapsed": true
   },
   "outputs": [],
   "source": [
    "def getRentFee(searching_soup):\n",
    "    # rent fee\n",
    "    try:\n",
    "        summary_basic = searching_soup.find(\"div\", {\"class\":\"view_info\"}).find_all(\"div\", {\"class\":\"inner\"})\n",
    "        deposit_and_rentfee = summary_basic[11].text.split(\"/\")\n",
    "        rent_fee = int(deposit_and_rentfee[1].split(\"만\")[0].strip().replace(',',''))\n",
    "    except (ValueError, AttributeError, IndexError) as e:\n",
    "        rent_fee = 0\n",
    "    return rent_fee"
   ]
  },
  {
   "cell_type": "code",
   "execution_count": 19,
   "metadata": {
    "collapsed": true
   },
   "outputs": [],
   "source": [
    "def getChar(searching_soup):\n",
    "    # characteristics\n",
    "    try:\n",
    "        summary_basic = searching_soup.find(\"div\", {\"class\":\"view_info\"}).find_all(\"div\", {\"class\":\"inner\"})\n",
    "        characteristics = summary_basic[13].text\n",
    "    except (ValueError, AttributeError, IndexError) as e:\n",
    "        characteristics = \"-\"\n",
    "    return characteristics"
   ]
  },
  {
   "cell_type": "code",
   "execution_count": 20,
   "metadata": {
    "collapsed": true
   },
   "outputs": [],
   "source": [
    "def getInterm(searching_soup):\n",
    "    # intermediary\n",
    "    try:\n",
    "        summary_basic = searching_soup.find(\"div\", {\"class\":\"view_info\"}).find_all(\"div\", {\"class\":\"inner\"})\n",
    "        intermediary = summary_basic[15].text\n",
    "    except (ValueError, AttributeError, IndexError) as e:\n",
    "        intermediary = \"-\"\n",
    "    return intermediary"
   ]
  },
  {
   "cell_type": "code",
   "execution_count": 21,
   "metadata": {
    "collapsed": true
   },
   "outputs": [],
   "source": [
    "def getUtilityBills(searching_soup):\n",
    "    # utility bills\n",
    "    try:\n",
    "        tax_soup = searching_soup.find_all('ul', {\"class\":\"lst_tax\"})[1]\n",
    "        replaceable_chr_list = ['\\\\', 'n', 't', ',', ' ', '약', '원']\n",
    "        utility_bills = tax_soup.find(\"strong\", {\"class\":\"highlight\"}).text\n",
    "\n",
    "        for i in replaceable_chr_list:\n",
    "\n",
    "            utility_bills = utility_bills.replace(i, '').strip()\n",
    "\n",
    "        utility_bills = int(utility_bills)\n",
    "\n",
    "    except (ValueError, AttributeError, IndexError) as e:\n",
    "        utility_bills = 0\n",
    "    \n",
    "    return utility_bills"
   ]
  },
  {
   "cell_type": "code",
   "execution_count": 22,
   "metadata": {
    "collapsed": true
   },
   "outputs": [],
   "source": [
    "def getIntermPay(searching_soup):\n",
    "    # intermediate pay\n",
    "    try:\n",
    "        intermediate_soup = searching_soup.find_all('ul', {\"class\":\"lst_tax\"})[0]\n",
    "        intermediate_pay = int(intermediate_soup.find(\"strong\").text)\n",
    "    except (ValueError, AttributeError, IndexError) as e:\n",
    "        intermediate_pay = 0\n",
    "    return intermediate_pay"
   ]
  },
  {
   "cell_type": "code",
   "execution_count": 23,
   "metadata": {
    "collapsed": true
   },
   "outputs": [],
   "source": [
    "def getCompletionDate(searching_soup):\n",
    "    # completion date\n",
    "    try:\n",
    "        completion_elem = searching_soup.find(\"div\", {\"class\":\"div_detail\"}).find_all(\"div\", {\"class\":\"inner\"})\n",
    "        completion_date = datetime.strptime(completion_elem[-1].text, '%Y.%m.')\n",
    "    except (ValueError, AttributeError, IndexError) as e:\n",
    "        completion_date = \"-\"\n",
    "    return completion_date"
   ]
  },
  {
   "cell_type": "code",
   "execution_count": 44,
   "metadata": {
    "collapsed": true
   },
   "outputs": [],
   "source": [
    "def getHouseholds(searching_soup):\n",
    "    # all households\n",
    "    try:\n",
    "        detail_soup = searching_soup.find('div', {'class','div_detail'}).find_all('div', {'class', 'inner'})\n",
    "        households = int(detail_soup[3].text.split(' ')[0])\n",
    "    except (ValueError, AttributeError, IndexError) as e:\n",
    "        households = 0\n",
    "    return households"
   ]
  },
  {
   "cell_type": "code",
   "execution_count": 92,
   "metadata": {},
   "outputs": [],
   "source": [
    "def getParkingNumber(searching_soup):\n",
    "    # parking number\n",
    "    try:\n",
    "        detail_soup = searching_soup.find('div', {'class','div_detail'}).find_all('div', {'class', 'inner'})\n",
    "        parkingnumber = int(detail_soup[5].text.split(' ')[0])\n",
    "    except (ValueError, AttributeError, IndexError) as e:\n",
    "        parkingnumber = 0\n",
    "    return parkingnumber"
   ]
  },
  {
   "cell_type": "markdown",
   "metadata": {},
   "source": [
    "# Create an ```Excel file```"
   ]
  },
  {
   "cell_type": "code",
   "execution_count": 24,
   "metadata": {
    "collapsed": true
   },
   "outputs": [],
   "source": [
    "def createExcelFile(df, province):\n",
    "    today = datetime.today()\n",
    "    str_today = str(today.year) + str(today.month) + str(today.day)\n",
    "    file_name = province + '_' + \"Officetel_\" + str_today + \".xlsx\"\n",
    "    sheet_name = province + \"_\" + str_today\n",
    "    writer = pd.ExcelWriter(file_name)\n",
    "    df.to_excel(writer, sheet_name)\n",
    "    writer.save()"
   ]
  },
  {
   "cell_type": "markdown",
   "metadata": {},
   "source": [
    "# Create a ```DataFrame```"
   ]
  },
  {
   "cell_type": "code",
   "execution_count": 25,
   "metadata": {
    "collapsed": true
   },
   "outputs": [],
   "source": [
    "def getResult(searching_url_dict):\n",
    "    # create null list for DataFrame\n",
    "    result = []\n",
    "    count = 1\n",
    "    \n",
    "    for url in tqdm(searching_url_dict):\n",
    "        \n",
    "        # ban 방지용 : url 개수가 20의 배수일 때 더 오래 쉼\n",
    "        count += 1\n",
    "        if count % 100 == 0:\n",
    "            sleep(40)\n",
    "        elif count % 20 == 0:\n",
    "            sleep(25)\n",
    "            \n",
    "        url_user = rq.Request(url,\n",
    "                  headers={\n",
    "                          'User-Agent':'Mozilla/5.0 (Macintosh; Intel Mac OS X 10_14_0) AppleWebKit/537.36 (KHTML, like Gecko) Chrome/69.0.3497.100 Safari/537.36'\n",
    "                      })\n",
    "        searching_html = rq.urlopen(url_user).read()\n",
    "        searching_soup = bs(searching_html, \"html.parser\")\n",
    "        \n",
    "        # get region info\n",
    "        city = searching_url_dict[url][0]\n",
    "        district = searching_url_dict[url][1]\n",
    "        village = searching_url_dict[url][2]\n",
    "        \n",
    "        # get contents\n",
    "        title = getContentsTitle(searching_soup)\n",
    "        price = getContentsPrice(searching_soup)\n",
    "        contract_area = getContractArea(searching_soup)\n",
    "        exclusive_area = getExclusiveArea(searching_soup)\n",
    "        specific_floor = getSpecificFloor(searching_soup)\n",
    "        total_floor = getTotalFloor(searching_soup)\n",
    "        rooms = getRooms(searching_soup)\n",
    "        baths = getBaths(searching_soup)\n",
    "        loan_amount = getLoanAmount(searching_soup)\n",
    "        moveable = getMoveable(searching_soup)\n",
    "        administration_cost = getAdminCost(searching_soup)\n",
    "        deposit = getDepositAmount(searching_soup)\n",
    "        rent_fee = getRentFee(searching_soup)\n",
    "        characteristics = getChar(searching_soup)\n",
    "        intermediary = getInterm(searching_soup)\n",
    "        utility_bills = getUtilityBills(searching_soup)\n",
    "        intermediate_pay = getIntermPay(searching_soup)\n",
    "        completion_date = getCompletionDate(searching_soup)\n",
    "        households = getHouseholds(searching_soup)\n",
    "        parkingnumber = getParkingNumber(searching_soup)\n",
    "        \n",
    "        info_list = [city, district, village, title, price, contract_area, exclusive_area, specific_floor, total_floor, rooms, baths, loan_amount, moveable,\n",
    "                     administration_cost, deposit, rent_fee, characteristics, intermediary, utility_bills, intermediate_pay, completion_date, households, parkingnumber, url]\n",
    "        \n",
    "        result.append(info_list)\n",
    "        \n",
    "    return result"
   ]
  },
  {
   "cell_type": "markdown",
   "metadata": {},
   "source": [
    "# Adjust the ```DataFrame```"
   ]
  },
  {
   "cell_type": "code",
   "execution_count": 93,
   "metadata": {
    "collapsed": true
   },
   "outputs": [],
   "source": [
    "def addCalcColumns(df):\n",
    "    interest_rate = 0.038\n",
    "    loanable_rate = 0.68\n",
    "    \n",
    "    try:\n",
    "        df['매매가'] = df['매매가'] * 10000\n",
    "        df['융자금'] = df['융자금'] * 10000\n",
    "        df['전용률'] = df['전용면적'] / df['계약면적']\n",
    "        df['전용률'] = df['전용률'].round(2)\n",
    "        df['계약평단가'] = df['매매가'] / df['계약면적']\n",
    "        df['전용평단가'] = df['매매가'] / df['전용면적']\n",
    "        df['월세'] = df['월세'] * 10000\n",
    "        df['보증금'] = df['보증금'] * 10000\n",
    "        df['연세'] = df['월세'] * 12\n",
    "        df['대출금'] = df['매매가'] * loanable_rate\n",
    "        df['중개보수'] = df['중개보수']*10000\n",
    "        df['실질매입비용'] = df['매매가'] - df['보증금'] + df['공과금'] + (df['중개보수'])\n",
    "        df['자기자금'] = df['실질매입비용'] - df['대출금']\n",
    "        df['자기자금이자'] = df['자기자금'] * interest_rate\n",
    "        df['연이자'] = df['대출금'] * interest_rate\n",
    "        df['연수익금'] = df['연세'] - df['연이자']\n",
    "        df['자기자금수익률'] = (df['연수익금']/df['자기자금']) * 100\n",
    "        df['현재일자'] = datetime.today()\n",
    "        df['연기간차이'] = df['현재일자'] - df['신축일자']\n",
    "        df['연기간차이'] = df['연기간차이'].dt.days/365\n",
    "        df['연기간차이'] = df['연기간차이'].round(2)\n",
    "        df['적정매입가'] = (df['월세'] * 250) + df['보증금'] - (df['연기간차이']*2000000)\n",
    "        df['공짜수익'] = df['연수익금'] - df['자기자금이자']\n",
    "        df['매입여부'] = df['매매가'] < df['적정매입가']\n",
    "        df['대출없는수익률'] = df['연세']/(df['매매가']-df['보증금'])\n",
    "        df['대출없는수익률'] = df['대출없는수익률'].round(2)\n",
    "        df['세대당주차대수'] = df['총주차대수'] / df['총세대수']\n",
    "        df['세대당주차대수'] = df['세대당주차대수'].round(2)\n",
    "    except (ValueError, AttributeError, IndexError, ZeroDivisionError) as e:\n",
    "        pass\n",
    "    \n",
    "    return df"
   ]
  },
  {
   "cell_type": "markdown",
   "metadata": {},
   "source": [
    "# Main ```function```"
   ]
  },
  {
   "cell_type": "code",
   "execution_count": 2,
   "metadata": {
    "collapsed": true
   },
   "outputs": [],
   "source": [
    "def main():\n",
    "    \n",
    "    # public village infos\n",
    "    df_village_code = pd.read_csv('koreaRegionCode.txt', sep='\\t', dtype={'법정동코드':str})# 'http://bit.ly/2PeVzTS' : crawling from the web with this url\n",
    "    df_village_code = df_village_code[df_village_code[\"폐지여부\"] == \"존재\"]\n",
    "    \n",
    "    # get Region list\n",
    "    city_list, district_list, village_list = getRegionList(df_village_code)\n",
    "    \n",
    "    # create village_DataFrame\n",
    "    df_village_code[\"도시\"] = city_list\n",
    "    df_village_code[\"구/군\"] = district_list\n",
    "    df_village_code[\"동\"] = village_list\n",
    "    df_village_code = df_village_code[df_village_code['동'] != df_village_code['도시']]\n",
    "    df_village_code = df_village_code[~df_village_code['동'].str.endswith('구')]\n",
    "    \n",
    "    # get province from user\n",
    "    village = getProvince(df_village_code)\n",
    "    \n",
    "    # get contents urls\n",
    "    searching_url_dict = getContentsUrls(village, df_village_code)\n",
    "    \n",
    "    # get informations\n",
    "    result = getResult(searching_url_dict)\n",
    "    \n",
    "    # Create result DataFrame    \n",
    "    result = pd.DataFrame(result)\n",
    "    \n",
    "    column_list = ['도시', '구/군', '동', '물건명', '매매가', '계약면적', '전용면적', '해당층', '총층', '방개수', '욕실수', '융자금', '입주가능일',\n",
    "                  '월관리비', '보증금', '월세', '특징', '중개업소', '공과금', '중개보수', '신축일자', '총세대수', '총주차대수', '물건url']\n",
    "    result.columns = column_list\n",
    "    \n",
    "    # add other columns\n",
    "    result = addCalcColumns(result)\n",
    "    \n",
    "    # rearrange column of DataFrame\n",
    "    rearranged_column = ['도시', '구/군', '동', '물건명', '매매가', '융자금', '계약면적', '전용면적', '전용률', '계약평단가', '전용평단가',\n",
    "                         '보증금', '월세', '연세', '월관리비', '공과금', '중개보수', '입주가능일', '특징', '해당층', '총층', '방개수',\n",
    "                         '욕실수', '총세대수', '총주차대수', '세대당주차대수', '신축일자', '연기간차이', '대출금', '연이자', '자기자금',\n",
    "                         '자기자금이자', '연수익금', '자기자금수익률', '실질매입비용', '적정매입가', '매입여부', '공짜수익', '대출없는수익률',\n",
    "                         '중개업소', '물건url']\n",
    "    result = result[rearranged_column] # 현재일자 column 제외\n",
    "    \n",
    "    # Create into an Excel file\n",
    "    createExcelFile(result, village)"
   ]
  },
  {
   "cell_type": "code",
   "execution_count": 74,
   "metadata": {
    "scrolled": true
   },
   "outputs": [
    {
     "name": "stdout",
     "output_type": "stream",
     "text": [
      "원하는 도시의 번호를 선택해주세요\n",
      "0.전지역 | \n",
      "1.서울특별시 | 2.부산광역시 | 3.대구광역시 | \n",
      "4.인천광역시 | 5.광주광역시 | 6.대전광역시 | \n",
      "7.울산광역시 | 8.세종특별자치시 | 9.경기도 | \n",
      "10.강원도 | 11.충청북도 | 12.충청남도 | \n",
      "13.전라북도 | 14.전라남도 | 15.경상북도 | \n",
      "16.경상남도 | 17.제주특별자치도 | 18.예시(삼성동)18\n"
     ]
    },
    {
     "name": "stderr",
     "output_type": "stream",
     "text": [
      "100%|██████████| 1/1 [01:10<00:00, 70.42s/it]\n",
      "100%|██████████| 234/234 [21:32<00:00,  5.52s/it]\n"
     ]
    }
   ],
   "source": [
    "if __name__ == \"__main__\":\n",
    "    main()"
   ]
  }
 ],
 "metadata": {
  "kernelspec": {
   "display_name": "Python 3",
   "language": "python",
   "name": "python3"
  },
  "language_info": {
   "codemirror_mode": {
    "name": "ipython",
    "version": 3
   },
   "file_extension": ".py",
   "mimetype": "text/x-python",
   "name": "python",
   "nbconvert_exporter": "python",
   "pygments_lexer": "ipython3",
   "version": "3.6.3"
  }
 },
 "nbformat": 4,
 "nbformat_minor": 2
}
