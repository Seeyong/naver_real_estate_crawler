{
 "cells": [
  {
   "cell_type": "code",
   "execution_count": 103,
   "metadata": {},
   "outputs": [],
   "source": [
    "crawling_list = ['물건명', '분양가', '매매가', '소유자', '계약면적', '전용면적', '융자금', '특징', '중개업소',\n",
    "                 '월관리비', '방수', '욕실수', '입주가능일', '신축일', '보증금', '월세', '중개보수', '공과금']"
   ]
  },
  {
   "cell_type": "code",
   "execution_count": 105,
   "metadata": {},
   "outputs": [
    {
     "data": {
      "text/plain": [
       "'\\n오피스텔 : rletTypeCd=A02\\n매매 : tradeTypeCd=A1\\nHighest Year of School Completed : hscpTypeCd=A02\\n법정동 코드 API http://juso.seoul.go.kr/openapi/helps/SearchApi_jibun.aspx\\nhttp://www.code.go.kr/ \\n1168010300 개포동\\n1168010800 논현동\\n1168010600 대치동\\n1168011800 도곡동\\n1168010500 삼성동\\n1168011100 세곡동\\n1168011500 수서동\\n1168010700 신사동\\n'"
      ]
     },
     "execution_count": 105,
     "metadata": {},
     "output_type": "execute_result"
    }
   ],
   "source": [
    "'''\n",
    "오피스텔 : rletTypeCd=A02\n",
    "매매 : tradeTypeCd=A1\n",
    "Highest Year of School Completed : hscpTypeCd=A02\n",
    "법정동 코드 API http://juso.seoul.go.kr/openapi/helps/SearchApi_jibun.aspx\n",
    "http://www.code.go.kr/\n",
    "https://financedata.github.io/posts/korea-area-code.html\n",
    "1168010300 개포동\n",
    "1168010800 논현동\n",
    "1168010600 대치동\n",
    "1168011800 도곡동\n",
    "1168010500 삼성동\n",
    "1168011100 세곡동\n",
    "1168011500 수서동\n",
    "1168010700 신사동\n",
    "'''"
   ]
  },
  {
   "cell_type": "code",
   "execution_count": 117,
   "metadata": {},
   "outputs": [
    {
     "name": "stdout",
     "output_type": "stream",
     "text": [
      "(20544, 3)\n"
     ]
    }
   ],
   "source": [
    "from urllib import request as rq\n",
    "from bs4 import BeautifulSoup as bs\n",
    "from datetime import datetime\n",
    "import pandas as pd\n",
    "\n",
    "df_village_code = pd.read_csv('https://goo.gl/tM6r3v', sep='\\t', dtype={'법정동코드':str})\n",
    "df_village_code = df_village_code[df_village_code[\"폐지여부\"] == \"존재\"]\n",
    "print(df_village_code.shape)"
   ]
  },
  {
   "cell_type": "code",
   "execution_count": 133,
   "metadata": {},
   "outputs": [
    {
     "data": {
      "text/plain": [
       "['서울특별시',\n",
       " '종로구',\n",
       " '청운동',\n",
       " '신교동',\n",
       " '궁정동',\n",
       " '효자동',\n",
       " '창성동',\n",
       " '통의동',\n",
       " '적선동',\n",
       " '통인동',\n",
       " '누상동',\n",
       " '누하동',\n",
       " '옥인동',\n",
       " '체부동',\n",
       " '필운동',\n",
       " '내자동',\n",
       " '사직동',\n",
       " '도렴동',\n",
       " '당주동',\n",
       " '내수동']"
      ]
     },
     "execution_count": 133,
     "metadata": {},
     "output_type": "execute_result"
    }
   ],
   "source": [
    "# 동 list\n",
    "village_lists = list(df_village_code['법정동명'].str.split(' '))\n",
    "village_list = [x[-1] for x in village_lists]\n",
    "village_list[:20]"
   ]
  },
  {
   "cell_type": "code",
   "execution_count": 135,
   "metadata": {
    "scrolled": true
   },
   "outputs": [
    {
     "data": {
      "text/plain": [
       "['서울특별시',\n",
       " '서울특별시',\n",
       " '서울특별시',\n",
       " '서울특별시',\n",
       " '서울특별시',\n",
       " '서울특별시',\n",
       " '서울특별시',\n",
       " '서울특별시',\n",
       " '서울특별시',\n",
       " '서울특별시',\n",
       " '서울특별시',\n",
       " '서울특별시',\n",
       " '서울특별시',\n",
       " '서울특별시',\n",
       " '서울특별시',\n",
       " '서울특별시',\n",
       " '서울특별시',\n",
       " '서울특별시',\n",
       " '서울특별시',\n",
       " '서울특별시']"
      ]
     },
     "execution_count": 135,
     "metadata": {},
     "output_type": "execute_result"
    }
   ],
   "source": [
    "# 도시 list\n",
    "city_list = [x[0] for x in village_lists]\n",
    "city_list[:20]"
   ]
  },
  {
   "cell_type": "code",
   "execution_count": 136,
   "metadata": {},
   "outputs": [
    {
     "data": {
      "text/html": [
       "<div>\n",
       "<style scoped>\n",
       "    .dataframe tbody tr th:only-of-type {\n",
       "        vertical-align: middle;\n",
       "    }\n",
       "\n",
       "    .dataframe tbody tr th {\n",
       "        vertical-align: top;\n",
       "    }\n",
       "\n",
       "    .dataframe thead th {\n",
       "        text-align: right;\n",
       "    }\n",
       "</style>\n",
       "<table border=\"1\" class=\"dataframe\">\n",
       "  <thead>\n",
       "    <tr style=\"text-align: right;\">\n",
       "      <th></th>\n",
       "      <th>법정동코드</th>\n",
       "      <th>법정동명</th>\n",
       "      <th>폐지여부</th>\n",
       "      <th>도시</th>\n",
       "      <th>동</th>\n",
       "    </tr>\n",
       "  </thead>\n",
       "  <tbody>\n",
       "    <tr>\n",
       "      <th>0</th>\n",
       "      <td>1100000000</td>\n",
       "      <td>서울특별시</td>\n",
       "      <td>존재</td>\n",
       "      <td>서울특별시</td>\n",
       "      <td>서울특별시</td>\n",
       "    </tr>\n",
       "    <tr>\n",
       "      <th>1</th>\n",
       "      <td>1111000000</td>\n",
       "      <td>서울특별시 종로구</td>\n",
       "      <td>존재</td>\n",
       "      <td>서울특별시</td>\n",
       "      <td>종로구</td>\n",
       "    </tr>\n",
       "    <tr>\n",
       "      <th>2</th>\n",
       "      <td>1111010100</td>\n",
       "      <td>서울특별시 종로구 청운동</td>\n",
       "      <td>존재</td>\n",
       "      <td>서울특별시</td>\n",
       "      <td>청운동</td>\n",
       "    </tr>\n",
       "    <tr>\n",
       "      <th>3</th>\n",
       "      <td>1111010200</td>\n",
       "      <td>서울특별시 종로구 신교동</td>\n",
       "      <td>존재</td>\n",
       "      <td>서울특별시</td>\n",
       "      <td>신교동</td>\n",
       "    </tr>\n",
       "    <tr>\n",
       "      <th>4</th>\n",
       "      <td>1111010300</td>\n",
       "      <td>서울특별시 종로구 궁정동</td>\n",
       "      <td>존재</td>\n",
       "      <td>서울특별시</td>\n",
       "      <td>궁정동</td>\n",
       "    </tr>\n",
       "  </tbody>\n",
       "</table>\n",
       "</div>"
      ],
      "text/plain": [
       "        법정동코드           법정동명 폐지여부     도시      동\n",
       "0  1100000000          서울특별시   존재  서울특별시  서울특별시\n",
       "1  1111000000      서울특별시 종로구   존재  서울특별시    종로구\n",
       "2  1111010100  서울특별시 종로구 청운동   존재  서울특별시    청운동\n",
       "3  1111010200  서울특별시 종로구 신교동   존재  서울특별시    신교동\n",
       "4  1111010300  서울특별시 종로구 궁정동   존재  서울특별시    궁정동"
      ]
     },
     "execution_count": 136,
     "metadata": {},
     "output_type": "execute_result"
    }
   ],
   "source": [
    "df_village_code[\"도시\"] = city_list\n",
    "df_village_code[\"동\"] = village_list\n",
    "df_village_code.head()"
   ]
  },
  {
   "cell_type": "code",
   "execution_count": 140,
   "metadata": {},
   "outputs": [
    {
     "data": {
      "text/plain": [
       "'1168010300'"
      ]
     },
     "execution_count": 140,
     "metadata": {},
     "output_type": "execute_result"
    }
   ],
   "source": [
    "df_village_code[df_village_code[\"동\"] == \"개포동\"]['법정동코드'].values[0]"
   ]
  },
  {
   "cell_type": "code",
   "execution_count": null,
   "metadata": {
    "collapsed": true
   },
   "outputs": [],
   "source": [
    "# gangnam_dict = {\"개포동\":1168010300, \"논현동\":1168010800}\n",
    "# village = input(\"동을 입력해주세요.\")\n",
    "# village_code = gangnam_dict[village]\n",
    "\n",
    "\n",
    "\n",
    "root_url = \"https://land.naver.com/\"\n",
    "searching_url_list = []\n",
    "\n",
    "# basic_url = 'https://land.naver.com/article/articleList.nhn?rletTypeCd=A02&tradeTypeCd=A1&hscpTypeCd=A02&cortarNo=%d'%village_code\n",
    "basic_url = 'https://land.naver.com/article/articleList.nhn?rletTypeCd=A02&tradeTypeCd=A1&hscpTypeCd=A02&cortarNo=1168010300'\n",
    "basic_html = rq.urlopen(basic_url).read()\n",
    "basic_soup = bs(basic_html, \"html.parser\")\n",
    "basic_elems = basic_soup.find_all(\"span\", {\"class\":\"btn_naverlink\"})\n",
    "for i in range(len(basic_elems)):\n",
    "    estate_url = root_url + basic_elems[i].find(\"a\").attrs[\"href\"]\n",
    "    searching_url_list.append(estate_url)\n",
    "    \n",
    "searching_url_list\n"
   ]
  },
  {
   "cell_type": "code",
   "execution_count": 3,
   "metadata": {},
   "outputs": [
    {
     "name": "stdout",
     "output_type": "stream",
     "text": [
      "대청타워 1동 20000\n"
     ]
    }
   ],
   "source": [
    "searching_url = searching_url_list[0]\n",
    "searching_html = rq.urlopen(searching_url).read()\n",
    "searching_soup = bs(searching_html, \"html.parser\")\n",
    "\n",
    "# title\n",
    "title_elem = searching_soup.find(\"h2\", {\"class\":\"t_adr ellipsis\"})\n",
    "title = title_elem.text\n",
    "\n",
    "# get price\n",
    "rate_basic = searching_soup.find_all(\"p\", {\"class\":\"rate_info\"})\n",
    "price = rate_basic[1].find_all(\"span\")[0].text\n",
    "price = int(price.split(\"만\")[0].replace(\",\",\"\"))\n",
    "print(title, price)"
   ]
  },
  {
   "cell_type": "code",
   "execution_count": 4,
   "metadata": {},
   "outputs": [
    {
     "name": "stdout",
     "output_type": "stream",
     "text": [
      "55.2 32.44\n"
     ]
    }
   ],
   "source": [
    "# get contract area\n",
    "areas = \"\"\n",
    "area = rate_basic[0].find_all(\"span\")\n",
    "for i in range(len(area)):\n",
    "    areas += area[i].text\n",
    "    \n",
    "areas_list = areas.split('/')\n",
    "contract_area = float(areas_list[0])\n",
    "\n",
    "# get exclusive area\n",
    "exclusive_area = float(areas_list[1].split('㎡')[0])\n",
    "\n",
    "print(contract_area, exclusive_area)"
   ]
  },
  {
   "cell_type": "code",
   "execution_count": 5,
   "metadata": {},
   "outputs": [
    {
     "name": "stdout",
     "output_type": "stream",
     "text": [
      "6 26\n"
     ]
    }
   ],
   "source": [
    "# specific floor\n",
    "summary_basic = searching_soup.find(\"div\", {\"class\":\"view_info\"}).find_all(\"div\", {\"class\":\"inner\"})\n",
    "floors = summary_basic[1].text.split(\"/\")\n",
    "specific_floor = int(floors[0])\n",
    "\n",
    "# total floor\n",
    "total_floor = int(floors[1].split(\"층\")[0])\n",
    "\n",
    "print(specific_floor, total_floor)"
   ]
  },
  {
   "cell_type": "code",
   "execution_count": 6,
   "metadata": {},
   "outputs": [
    {
     "name": "stdout",
     "output_type": "stream",
     "text": [
      "1 1\n"
     ]
    }
   ],
   "source": [
    "# rooms\n",
    "room_and_bath = summary_basic[3].text.split(\"/\")\n",
    "rooms = int(room_and_bath[0])\n",
    "\n",
    "# baths\n",
    "baths = int(room_and_bath[1].split('개')[0])\n",
    "\n",
    "print(rooms, baths)"
   ]
  },
  {
   "cell_type": "code",
   "execution_count": 7,
   "metadata": {},
   "outputs": [
    {
     "name": "stdout",
     "output_type": "stream",
     "text": [
      "0\n"
     ]
    }
   ],
   "source": [
    "# loan amount\n",
    "try:\n",
    "    loan_amount = int(summary_basic[5].text.split(\"만\")[0])\n",
    "except ValueError as e:\n",
    "    loan_amount = 0\n",
    "    \n",
    "print(loan_amount)"
   ]
  },
  {
   "cell_type": "code",
   "execution_count": 8,
   "metadata": {},
   "outputs": [
    {
     "name": "stdout",
     "output_type": "stream",
     "text": [
      "즉시입주\n"
     ]
    }
   ],
   "source": [
    "# moveable\n",
    "try:\n",
    "    moveable = summary_basic[7].text\n",
    "except ValueError as e:\n",
    "    moveable = \"-\"\n",
    "    \n",
    "print(moveable)"
   ]
  },
  {
   "cell_type": "code",
   "execution_count": 9,
   "metadata": {},
   "outputs": [
    {
     "name": "stdout",
     "output_type": "stream",
     "text": [
      "100000\n"
     ]
    }
   ],
   "source": [
    "# administration cost\n",
    "try:\n",
    "    administration_cost = int(summary_basic[9].text.split(\"원\")[0].strip().replace(\",\",\"\"))\n",
    "except ValueError as e:\n",
    "    administration_cost = \"-\"\n",
    "    \n",
    "print(administration_cost)"
   ]
  },
  {
   "cell_type": "code",
   "execution_count": 10,
   "metadata": {},
   "outputs": [
    {
     "name": "stdout",
     "output_type": "stream",
     "text": [
      "500 65\n"
     ]
    }
   ],
   "source": [
    "# deposit amount\n",
    "\n",
    "deposit_and_rentfee = summary_basic[11].text.split(\"/\")\n",
    "try:    \n",
    "    deposit = int(deposit_and_rentfee[0].strip())\n",
    "except ValueError as e:\n",
    "    deposit = \"-\"\n",
    "    \n",
    "# rent fee\n",
    "try:\n",
    "    rent_fee = int(deposit_and_rentfee[1].split(\"만\")[0].strip())\n",
    "except ValueError as e:\n",
    "    rent_fee = \"-\"\n",
    "    \n",
    "print(deposit, rent_fee)    "
   ]
  },
  {
   "cell_type": "code",
   "execution_count": 11,
   "metadata": {},
   "outputs": [
    {
     "data": {
      "text/plain": [
       "'탁트인공원전망 오래월세중 수익좋음'"
      ]
     },
     "execution_count": 11,
     "metadata": {},
     "output_type": "execute_result"
    }
   ],
   "source": [
    "# characteristics\n",
    "try:\n",
    "    characteristics = summary_basic[13].text\n",
    "except ValueError as e:\n",
    "    characteristics = \"-\"\n",
    "characteristics"
   ]
  },
  {
   "cell_type": "code",
   "execution_count": 12,
   "metadata": {},
   "outputs": [
    {
     "name": "stdout",
     "output_type": "stream",
     "text": [
      "나산공인중개사사무소 02-3413-7700 l 소재지 대표: 변동주 010-6207-3097 \n"
     ]
    }
   ],
   "source": [
    "# intermediary\n",
    "try:\n",
    "    intermediary = summary_basic[15].text\n",
    "except ValueError as e:\n",
    "    intermediary = \"-\"\n",
    "    \n",
    "print(intermediary)"
   ]
  },
  {
   "cell_type": "code",
   "execution_count": 66,
   "metadata": {},
   "outputs": [
    {
     "data": {
      "text/plain": [
       "9434000"
      ]
     },
     "execution_count": 66,
     "metadata": {},
     "output_type": "execute_result"
    }
   ],
   "source": [
    "# utility bills\n",
    "tax_soup = searching_soup.find_all('ul', {\"class\":\"lst_tax\"})[1]\n",
    "replaceable_chr_list = ['\\\\', 'n', 't', ',', ' ', '약', '원']\n",
    "\n",
    "try:\n",
    "    utility_bills = tax_soup.find(\"strong\", {\"class\":\"highlight\"}).text\n",
    "\n",
    "    for i in replaceable_chr_list:\n",
    "\n",
    "        utility_bills = utility_bills.replace(i, '').strip()\n",
    "\n",
    "    utility_bills = int(utility_bills)\n",
    "    \n",
    "except ValueError as e:\n",
    "    utility_bills = \"-\"\n",
    "    \n",
    "utility_bills"
   ]
  },
  {
   "cell_type": "code",
   "execution_count": 74,
   "metadata": {},
   "outputs": [
    {
     "name": "stdout",
     "output_type": "stream",
     "text": [
      "100\n"
     ]
    }
   ],
   "source": [
    "# intermediate pay\n",
    "intermediate_soup = searching_soup.find_all('ul', {\"class\":\"lst_tax\"})[0]\n",
    "try:\n",
    "    intermediate_pay = int(intermediate_soup.find(\"strong\").text)\n",
    "except ValueError as e:\n",
    "    intermediate_pay = \"-\"\n",
    "    \n",
    "print(intermediate_pay)"
   ]
  },
  {
   "cell_type": "code",
   "execution_count": 101,
   "metadata": {},
   "outputs": [
    {
     "name": "stdout",
     "output_type": "stream",
     "text": [
      "1997 / 5\n"
     ]
    }
   ],
   "source": [
    "# completion date\n",
    "completion_elem = searching_soup.find(\"div\", {\"class\":\"div_detail\"}).find_all(\"div\", {\"class\":\"inner\"})\n",
    "\n",
    "try:\n",
    "    completion_date = datetime.strptime(completion_elem[-1].text, '%Y.%m.')\n",
    "except ValueError as e:\n",
    "    completion_date = \"-\"\n",
    "    \n",
    "print(completion_date.year, '/', completion_date.month)"
   ]
  },
  {
   "cell_type": "code",
   "execution_count": null,
   "metadata": {
    "collapsed": true
   },
   "outputs": [],
   "source": []
  },
  {
   "cell_type": "code",
   "execution_count": null,
   "metadata": {
    "collapsed": true
   },
   "outputs": [],
   "source": []
  },
  {
   "cell_type": "code",
   "execution_count": null,
   "metadata": {
    "collapsed": true
   },
   "outputs": [],
   "source": []
  },
  {
   "cell_type": "code",
   "execution_count": null,
   "metadata": {
    "collapsed": true
   },
   "outputs": [],
   "source": []
  },
  {
   "cell_type": "code",
   "execution_count": null,
   "metadata": {
    "collapsed": true
   },
   "outputs": [],
   "source": []
  },
  {
   "cell_type": "code",
   "execution_count": null,
   "metadata": {
    "collapsed": true
   },
   "outputs": [],
   "source": []
  },
  {
   "cell_type": "code",
   "execution_count": null,
   "metadata": {
    "collapsed": true
   },
   "outputs": [],
   "source": []
  },
  {
   "cell_type": "code",
   "execution_count": null,
   "metadata": {
    "collapsed": true
   },
   "outputs": [],
   "source": []
  },
  {
   "cell_type": "code",
   "execution_count": null,
   "metadata": {
    "collapsed": true
   },
   "outputs": [],
   "source": []
  }
 ],
 "metadata": {
  "kernelspec": {
   "display_name": "Python 3",
   "language": "python",
   "name": "python3"
  },
  "language_info": {
   "codemirror_mode": {
    "name": "ipython",
    "version": 3
   },
   "file_extension": ".py",
   "mimetype": "text/x-python",
   "name": "python",
   "nbconvert_exporter": "python",
   "pygments_lexer": "ipython3",
   "version": "3.6.3"
  }
 },
 "nbformat": 4,
 "nbformat_minor": 2
}
